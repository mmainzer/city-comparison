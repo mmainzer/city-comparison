{
 "cells": [
  {
   "cell_type": "code",
   "execution_count": 105,
   "metadata": {},
   "outputs": [],
   "source": [
    "import pandas as pd\n",
    "pd.set_option('display.max_columns', None)\n",
    "pd.set_option('display.max_rows', None)\n",
    "\n",
    "import requests\n",
    "import json\n",
    "import prettytable\n",
    "import geopandas as gpd\n",
    "import fiona"
   ]
  },
  {
   "cell_type": "code",
   "execution_count": 2,
   "metadata": {},
   "outputs": [],
   "source": [
    "blsSeries = pd.read_excel('../msaBlsSeries.xlsx', sheet_name=\"blsSeries\")\n",
    "msa = gpd.read_file('../../../data/spatial/msa/usMsaCentroids.geojson')"
   ]
  },
  {
   "cell_type": "code",
   "execution_count": 3,
   "metadata": {},
   "outputs": [],
   "source": [
    "months = {'January':1, 'February':2, 'March':3, 'April':4, 'May':5, 'June':6, 'July':7, 'August':8,\n",
    "          'September':9,'October':10,'November':11,'December':12}"
   ]
  },
  {
   "cell_type": "code",
   "execution_count": 4,
   "metadata": {},
   "outputs": [],
   "source": [
    "uRateList = blsSeries['unemploymentRateSeries'].tolist()\n",
    "lfList = blsSeries['laborForceSeries'].tolist()"
   ]
  },
  {
   "cell_type": "code",
   "execution_count": 5,
   "metadata": {},
   "outputs": [
    {
     "name": "stdout",
     "output_type": "stream",
     "text": [
      "1 0 50\n",
      "2 50 100\n",
      "3 100 150\n",
      "4 150 200\n",
      "5 200 250\n",
      "6 250 300\n",
      "7 300 350\n",
      "8 350 400\n"
     ]
    }
   ],
   "source": [
    "url = 'https://api.bls.gov/publicAPI/v2/timeseries/data/?registrationkey=6aff0b6bece9458d9ecfb4cd10a3a375'\n",
    "\n",
    "frames = []\n",
    "items = [1,2,3,4,5,6,7,8]\n",
    "start = 0\n",
    "end = 50\n",
    "\n",
    "for item in items:\n",
    "    seriesId = []\n",
    "    year = []\n",
    "    month = []\n",
    "    value = []\n",
    "\n",
    "    print(item, start, end)\n",
    "    chunk = uRateList[start:end]\n",
    "    areas = ','.join(chunk)\n",
    "    response = requests.post(url, data = {\"seriesid\":areas,\"startyear\":\"2018\",\"endyear\":\"2020\"})\n",
    "    \n",
    "    json_data = json.loads(response.text)\n",
    "    \n",
    "    for series in json_data['Results']['series']:\n",
    "        sid = series['seriesID']\n",
    "        for item in series['data']:\n",
    "            seriesId.append( sid )\n",
    "            year.append( item['year'] )\n",
    "            month.append ( item['periodName'] )\n",
    "            value.append( item['value'] )\n",
    "        \n",
    "    df = pd.DataFrame({'seriesId':seriesId,'month':month,'year':year,'value':value})\n",
    "    \n",
    "    frames.append(df)\n",
    "    \n",
    "    start += 50\n",
    "    end += 50"
   ]
  },
  {
   "cell_type": "code",
   "execution_count": 6,
   "metadata": {},
   "outputs": [],
   "source": [
    "uRateData = pd.concat( frames )"
   ]
  },
  {
   "cell_type": "code",
   "execution_count": 7,
   "metadata": {},
   "outputs": [
    {
     "data": {
      "text/plain": [
       "381"
      ]
     },
     "execution_count": 7,
     "metadata": {},
     "output_type": "execute_result"
    }
   ],
   "source": [
    "uRateData['seriesId'].nunique()"
   ]
  },
  {
   "cell_type": "code",
   "execution_count": 8,
   "metadata": {},
   "outputs": [],
   "source": [
    "uRate = blsSeries[['MSA','unemploymentRateSeries']]\n",
    "uRateData = pd.merge(uRateData,uRate,how='left',left_on='seriesId',right_on='unemploymentRateSeries')\n",
    "uRateData['Day'] = 1\n",
    "uRateData['Month'] = uRateData.month.map(months)\n",
    "uRateData['date'] = pd.to_datetime(uRateData[['Month','Day','year']])\n",
    "uRateData.sort_values(['seriesId','date'], inplace=True)\n",
    "uRateData['Month'] = uRateData['month'].str[:3]\n",
    "uRateData['value'] = uRateData['value'].astype(float)"
   ]
  },
  {
   "cell_type": "markdown",
   "metadata": {},
   "source": [
    "# Repeat that process but with the total labor force"
   ]
  },
  {
   "cell_type": "code",
   "execution_count": 9,
   "metadata": {},
   "outputs": [
    {
     "name": "stdout",
     "output_type": "stream",
     "text": [
      "1 0 50\n",
      "2 50 100\n",
      "3 100 150\n",
      "4 150 200\n",
      "5 200 250\n",
      "6 250 300\n",
      "7 300 350\n",
      "8 350 400\n"
     ]
    }
   ],
   "source": [
    "url = 'https://api.bls.gov/publicAPI/v2/timeseries/data/?registrationkey=6aff0b6bece9458d9ecfb4cd10a3a375'\n",
    "\n",
    "frames = []\n",
    "items = [1,2,3,4,5,6,7,8]\n",
    "start = 0\n",
    "end = 50\n",
    "\n",
    "for item in items:\n",
    "    seriesId = []\n",
    "    year = []\n",
    "    month = []\n",
    "    value = []\n",
    "\n",
    "    print(item, start, end)\n",
    "    chunk = lfList[start:end]\n",
    "    areas = ','.join(chunk)\n",
    "    response = requests.post(url, data = {\"seriesid\":areas,\"startyear\":\"2018\",\"endyear\":\"2020\"})\n",
    "    \n",
    "    json_data = json.loads(response.text)\n",
    "    \n",
    "    for series in json_data['Results']['series']:\n",
    "        sid = series['seriesID']\n",
    "        for item in series['data']:\n",
    "            seriesId.append( sid )\n",
    "            year.append( item['year'] )\n",
    "            month.append ( item['periodName'] )\n",
    "            value.append( item['value'] )\n",
    "        \n",
    "    df = pd.DataFrame({'seriesId':seriesId,'month':month,'year':year,'value':value})\n",
    "    \n",
    "    frames.append(df)\n",
    "    \n",
    "    start += 50\n",
    "    end += 50"
   ]
  },
  {
   "cell_type": "code",
   "execution_count": 10,
   "metadata": {},
   "outputs": [
    {
     "data": {
      "text/plain": [
       "381"
      ]
     },
     "execution_count": 10,
     "metadata": {},
     "output_type": "execute_result"
    }
   ],
   "source": [
    "lfData = pd.concat( frames )\n",
    "lfData['seriesId'].nunique()"
   ]
  },
  {
   "cell_type": "code",
   "execution_count": 11,
   "metadata": {},
   "outputs": [],
   "source": [
    "lfSeries = blsSeries[['MSA','laborForceSeries']]\n",
    "lfData = pd.merge(lfData,lfSeries,how='left',left_on='seriesId',right_on='laborForceSeries')\n",
    "lfData['Day'] = 1\n",
    "lfData['Month'] = lfData.month.map(months)\n",
    "lfData['date'] = pd.to_datetime(lfData[['Month','Day','year']])\n",
    "lfData.sort_values(['seriesId','date'], inplace=True)\n",
    "lfData['Month'] = lfData['month'].str[:3]\n",
    "lfData['value'] = lfData['value'].astype(float)"
   ]
  },
  {
   "cell_type": "code",
   "execution_count": 12,
   "metadata": {},
   "outputs": [],
   "source": [
    "uRateCurr = uRateData.loc[(uRateData['month'] == 'December') & (uRateData['year'] == '2020')]\n",
    "uRateLast = uRateData.loc[(uRateData['month'] == 'December') & (uRateData['year'] == '2019')]\n",
    "\n",
    "uRateCurr = uRateCurr[['MSA','seriesId','value']]\n",
    "uRateCurr.rename(columns={'value':'December_2020_URate'}, inplace=True)\n",
    "\n",
    "uRateLast = uRateLast[['seriesId','value']]\n",
    "uRateLast.rename(columns={'value':'December_2019_URate'}, inplace=True)\n",
    "\n",
    "uRateSum = pd.merge(uRateCurr, uRateLast, how='left', on='seriesId')\n",
    "uRateSum['geoid'] = uRateSum['seriesId'].str[5:12]"
   ]
  },
  {
   "cell_type": "code",
   "execution_count": 13,
   "metadata": {},
   "outputs": [],
   "source": [
    "lfCurr = lfData.loc[(lfData['month'] == 'December') & (lfData['year'] == '2020')]\n",
    "lfLast = lfData.loc[(lfData['month'] == 'December') & (lfData['year'] == '2019')]\n",
    "\n",
    "lfCurr = lfCurr[['MSA','seriesId','value']]\n",
    "lfCurr.rename(columns={'value':'December_2020_LaborForce'}, inplace=True)\n",
    "\n",
    "lfLast = lfLast[['seriesId','value']]\n",
    "lfLast.rename(columns={'value':'December_2019_LaborForce'}, inplace=True)\n",
    "\n",
    "lfSum = pd.merge(lfCurr, lfLast, how='left', on='seriesId')\n",
    "lfSum['geoid'] = lfSum['seriesId'].str[5:12]"
   ]
  },
  {
   "cell_type": "code",
   "execution_count": 14,
   "metadata": {},
   "outputs": [
    {
     "data": {
      "text/html": [
       "<div>\n",
       "<style scoped>\n",
       "    .dataframe tbody tr th:only-of-type {\n",
       "        vertical-align: middle;\n",
       "    }\n",
       "\n",
       "    .dataframe tbody tr th {\n",
       "        vertical-align: top;\n",
       "    }\n",
       "\n",
       "    .dataframe thead th {\n",
       "        text-align: right;\n",
       "    }\n",
       "</style>\n",
       "<table border=\"1\" class=\"dataframe\">\n",
       "  <thead>\n",
       "    <tr style=\"text-align: right;\">\n",
       "      <th></th>\n",
       "      <th>geoid</th>\n",
       "      <th>cbsa</th>\n",
       "      <th>area</th>\n",
       "      <th>geometry</th>\n",
       "    </tr>\n",
       "  </thead>\n",
       "  <tbody>\n",
       "    <tr>\n",
       "      <th>0</th>\n",
       "      <td>1312020</td>\n",
       "      <td>12020</td>\n",
       "      <td>Athens-Clarke County, GA</td>\n",
       "      <td>POINT (-83.21379 33.94901)</td>\n",
       "    </tr>\n",
       "    <tr>\n",
       "      <th>1</th>\n",
       "      <td>1312060</td>\n",
       "      <td>12060</td>\n",
       "      <td>Atlanta-Sandy Springs-Alpharetta, GA</td>\n",
       "      <td>POINT (-84.39957 33.69277)</td>\n",
       "    </tr>\n",
       "  </tbody>\n",
       "</table>\n",
       "</div>"
      ],
      "text/plain": [
       "     geoid   cbsa                                  area  \\\n",
       "0  1312020  12020              Athens-Clarke County, GA   \n",
       "1  1312060  12060  Atlanta-Sandy Springs-Alpharetta, GA   \n",
       "\n",
       "                     geometry  \n",
       "0  POINT (-83.21379 33.94901)  \n",
       "1  POINT (-84.39957 33.69277)  "
      ]
     },
     "execution_count": 14,
     "metadata": {},
     "output_type": "execute_result"
    }
   ],
   "source": [
    "msa.head(2)"
   ]
  },
  {
   "cell_type": "code",
   "execution_count": 15,
   "metadata": {},
   "outputs": [],
   "source": [
    "lfSum['cbsa'] = lfSum['geoid'].str[-5:]\n",
    "uRateSum['cbsa'] = uRateSum['geoid'].str[-5:]"
   ]
  },
  {
   "cell_type": "code",
   "execution_count": 16,
   "metadata": {},
   "outputs": [
    {
     "data": {
      "text/html": [
       "<div>\n",
       "<style scoped>\n",
       "    .dataframe tbody tr th:only-of-type {\n",
       "        vertical-align: middle;\n",
       "    }\n",
       "\n",
       "    .dataframe tbody tr th {\n",
       "        vertical-align: top;\n",
       "    }\n",
       "\n",
       "    .dataframe thead th {\n",
       "        text-align: right;\n",
       "    }\n",
       "</style>\n",
       "<table border=\"1\" class=\"dataframe\">\n",
       "  <thead>\n",
       "    <tr style=\"text-align: right;\">\n",
       "      <th></th>\n",
       "      <th>MSA</th>\n",
       "      <th>seriesId</th>\n",
       "      <th>December_2020_LaborForce</th>\n",
       "      <th>December_2019_LaborForce</th>\n",
       "      <th>geoid</th>\n",
       "      <th>cbsa</th>\n",
       "    </tr>\n",
       "  </thead>\n",
       "  <tbody>\n",
       "    <tr>\n",
       "      <th>0</th>\n",
       "      <td>Anniston-Oxford, AL</td>\n",
       "      <td>LAUMT011150000000006</td>\n",
       "      <td>44289.0</td>\n",
       "      <td>46320.0</td>\n",
       "      <td>0111500</td>\n",
       "      <td>11500</td>\n",
       "    </tr>\n",
       "    <tr>\n",
       "      <th>1</th>\n",
       "      <td>Auburn-Opelika, AL</td>\n",
       "      <td>LAUMT011222000000006</td>\n",
       "      <td>75408.0</td>\n",
       "      <td>77615.0</td>\n",
       "      <td>0112220</td>\n",
       "      <td>12220</td>\n",
       "    </tr>\n",
       "  </tbody>\n",
       "</table>\n",
       "</div>"
      ],
      "text/plain": [
       "                   MSA              seriesId  December_2020_LaborForce  \\\n",
       "0  Anniston-Oxford, AL  LAUMT011150000000006                   44289.0   \n",
       "1   Auburn-Opelika, AL  LAUMT011222000000006                   75408.0   \n",
       "\n",
       "   December_2019_LaborForce    geoid   cbsa  \n",
       "0                   46320.0  0111500  11500  \n",
       "1                   77615.0  0112220  12220  "
      ]
     },
     "execution_count": 16,
     "metadata": {},
     "output_type": "execute_result"
    }
   ],
   "source": [
    "lfSum.head(2)"
   ]
  },
  {
   "cell_type": "code",
   "execution_count": 17,
   "metadata": {},
   "outputs": [
    {
     "data": {
      "text/html": [
       "<div>\n",
       "<style scoped>\n",
       "    .dataframe tbody tr th:only-of-type {\n",
       "        vertical-align: middle;\n",
       "    }\n",
       "\n",
       "    .dataframe tbody tr th {\n",
       "        vertical-align: top;\n",
       "    }\n",
       "\n",
       "    .dataframe thead th {\n",
       "        text-align: right;\n",
       "    }\n",
       "</style>\n",
       "<table border=\"1\" class=\"dataframe\">\n",
       "  <thead>\n",
       "    <tr style=\"text-align: right;\">\n",
       "      <th></th>\n",
       "      <th>MSA</th>\n",
       "      <th>seriesId</th>\n",
       "      <th>December_2020_URate</th>\n",
       "      <th>December_2019_URate</th>\n",
       "      <th>geoid</th>\n",
       "      <th>cbsa</th>\n",
       "    </tr>\n",
       "  </thead>\n",
       "  <tbody>\n",
       "    <tr>\n",
       "      <th>0</th>\n",
       "      <td>Anniston-Oxford, AL</td>\n",
       "      <td>LAUMT011150000000003</td>\n",
       "      <td>4.4</td>\n",
       "      <td>3.0</td>\n",
       "      <td>0111500</td>\n",
       "      <td>11500</td>\n",
       "    </tr>\n",
       "    <tr>\n",
       "      <th>1</th>\n",
       "      <td>Auburn-Opelika, AL</td>\n",
       "      <td>LAUMT011222000000003</td>\n",
       "      <td>3.0</td>\n",
       "      <td>2.2</td>\n",
       "      <td>0112220</td>\n",
       "      <td>12220</td>\n",
       "    </tr>\n",
       "  </tbody>\n",
       "</table>\n",
       "</div>"
      ],
      "text/plain": [
       "                   MSA              seriesId  December_2020_URate  \\\n",
       "0  Anniston-Oxford, AL  LAUMT011150000000003                  4.4   \n",
       "1   Auburn-Opelika, AL  LAUMT011222000000003                  3.0   \n",
       "\n",
       "   December_2019_URate    geoid   cbsa  \n",
       "0                  3.0  0111500  11500  \n",
       "1                  2.2  0112220  12220  "
      ]
     },
     "execution_count": 17,
     "metadata": {},
     "output_type": "execute_result"
    }
   ],
   "source": [
    "uRateSum.head(2)"
   ]
  },
  {
   "cell_type": "code",
   "execution_count": 18,
   "metadata": {},
   "outputs": [
    {
     "data": {
      "text/plain": [
       "(381, 6)"
      ]
     },
     "execution_count": 18,
     "metadata": {},
     "output_type": "execute_result"
    }
   ],
   "source": [
    "lfSum.shape"
   ]
  },
  {
   "cell_type": "code",
   "execution_count": 19,
   "metadata": {},
   "outputs": [
    {
     "data": {
      "text/plain": [
       "(381, 6)"
      ]
     },
     "execution_count": 19,
     "metadata": {},
     "output_type": "execute_result"
    }
   ],
   "source": [
    "uRateSum.shape"
   ]
  },
  {
   "cell_type": "code",
   "execution_count": 20,
   "metadata": {},
   "outputs": [],
   "source": [
    "sumStats = pd.merge(lfSum,uRateSum, how='left', on='cbsa')"
   ]
  },
  {
   "cell_type": "code",
   "execution_count": 21,
   "metadata": {},
   "outputs": [
    {
     "data": {
      "text/html": [
       "<div>\n",
       "<style scoped>\n",
       "    .dataframe tbody tr th:only-of-type {\n",
       "        vertical-align: middle;\n",
       "    }\n",
       "\n",
       "    .dataframe tbody tr th {\n",
       "        vertical-align: top;\n",
       "    }\n",
       "\n",
       "    .dataframe thead th {\n",
       "        text-align: right;\n",
       "    }\n",
       "</style>\n",
       "<table border=\"1\" class=\"dataframe\">\n",
       "  <thead>\n",
       "    <tr style=\"text-align: right;\">\n",
       "      <th></th>\n",
       "      <th>MSA_x</th>\n",
       "      <th>seriesId_x</th>\n",
       "      <th>December_2020_LaborForce</th>\n",
       "      <th>December_2019_LaborForce</th>\n",
       "      <th>geoid_x</th>\n",
       "      <th>cbsa</th>\n",
       "      <th>MSA_y</th>\n",
       "      <th>seriesId_y</th>\n",
       "      <th>December_2020_URate</th>\n",
       "      <th>December_2019_URate</th>\n",
       "      <th>geoid_y</th>\n",
       "    </tr>\n",
       "  </thead>\n",
       "  <tbody>\n",
       "    <tr>\n",
       "      <th>0</th>\n",
       "      <td>Anniston-Oxford, AL</td>\n",
       "      <td>LAUMT011150000000006</td>\n",
       "      <td>44289.0</td>\n",
       "      <td>46320.0</td>\n",
       "      <td>0111500</td>\n",
       "      <td>11500</td>\n",
       "      <td>Anniston-Oxford, AL</td>\n",
       "      <td>LAUMT011150000000003</td>\n",
       "      <td>4.4</td>\n",
       "      <td>3.0</td>\n",
       "      <td>0111500</td>\n",
       "    </tr>\n",
       "    <tr>\n",
       "      <th>1</th>\n",
       "      <td>Auburn-Opelika, AL</td>\n",
       "      <td>LAUMT011222000000006</td>\n",
       "      <td>75408.0</td>\n",
       "      <td>77615.0</td>\n",
       "      <td>0112220</td>\n",
       "      <td>12220</td>\n",
       "      <td>Auburn-Opelika, AL</td>\n",
       "      <td>LAUMT011222000000003</td>\n",
       "      <td>3.0</td>\n",
       "      <td>2.2</td>\n",
       "      <td>0112220</td>\n",
       "    </tr>\n",
       "    <tr>\n",
       "      <th>2</th>\n",
       "      <td>Birmingham-Hoover, AL</td>\n",
       "      <td>LAUMT011382000000006</td>\n",
       "      <td>543586.0</td>\n",
       "      <td>559808.0</td>\n",
       "      <td>0113820</td>\n",
       "      <td>13820</td>\n",
       "      <td>Birmingham-Hoover, AL</td>\n",
       "      <td>LAUMT011382000000003</td>\n",
       "      <td>3.5</td>\n",
       "      <td>2.2</td>\n",
       "      <td>0113820</td>\n",
       "    </tr>\n",
       "    <tr>\n",
       "      <th>3</th>\n",
       "      <td>Daphne-Fairhope-Foley, AL</td>\n",
       "      <td>LAUMT011930000000006</td>\n",
       "      <td>91638.0</td>\n",
       "      <td>95993.0</td>\n",
       "      <td>0119300</td>\n",
       "      <td>19300</td>\n",
       "      <td>Daphne-Fairhope-Foley, AL</td>\n",
       "      <td>LAUMT011930000000003</td>\n",
       "      <td>3.4</td>\n",
       "      <td>2.4</td>\n",
       "      <td>0119300</td>\n",
       "    </tr>\n",
       "    <tr>\n",
       "      <th>4</th>\n",
       "      <td>Decatur, AL</td>\n",
       "      <td>LAUMT011946000000006</td>\n",
       "      <td>70864.0</td>\n",
       "      <td>72844.0</td>\n",
       "      <td>0119460</td>\n",
       "      <td>19460</td>\n",
       "      <td>Decatur, AL</td>\n",
       "      <td>LAUMT011946000000003</td>\n",
       "      <td>2.9</td>\n",
       "      <td>2.3</td>\n",
       "      <td>0119460</td>\n",
       "    </tr>\n",
       "  </tbody>\n",
       "</table>\n",
       "</div>"
      ],
      "text/plain": [
       "                       MSA_x            seriesId_x  December_2020_LaborForce  \\\n",
       "0        Anniston-Oxford, AL  LAUMT011150000000006                   44289.0   \n",
       "1         Auburn-Opelika, AL  LAUMT011222000000006                   75408.0   \n",
       "2      Birmingham-Hoover, AL  LAUMT011382000000006                  543586.0   \n",
       "3  Daphne-Fairhope-Foley, AL  LAUMT011930000000006                   91638.0   \n",
       "4                Decatur, AL  LAUMT011946000000006                   70864.0   \n",
       "\n",
       "   December_2019_LaborForce  geoid_x   cbsa                      MSA_y  \\\n",
       "0                   46320.0  0111500  11500        Anniston-Oxford, AL   \n",
       "1                   77615.0  0112220  12220         Auburn-Opelika, AL   \n",
       "2                  559808.0  0113820  13820      Birmingham-Hoover, AL   \n",
       "3                   95993.0  0119300  19300  Daphne-Fairhope-Foley, AL   \n",
       "4                   72844.0  0119460  19460                Decatur, AL   \n",
       "\n",
       "             seriesId_y  December_2020_URate  December_2019_URate  geoid_y  \n",
       "0  LAUMT011150000000003                  4.4                  3.0  0111500  \n",
       "1  LAUMT011222000000003                  3.0                  2.2  0112220  \n",
       "2  LAUMT011382000000003                  3.5                  2.2  0113820  \n",
       "3  LAUMT011930000000003                  3.4                  2.4  0119300  \n",
       "4  LAUMT011946000000003                  2.9                  2.3  0119460  "
      ]
     },
     "execution_count": 21,
     "metadata": {},
     "output_type": "execute_result"
    }
   ],
   "source": [
    "sumStats.head()"
   ]
  },
  {
   "cell_type": "code",
   "execution_count": 22,
   "metadata": {},
   "outputs": [],
   "source": [
    "sumStats = sumStats[['cbsa','geoid_x','MSA_x','December_2020_LaborForce','December_2020_URate']]"
   ]
  },
  {
   "cell_type": "code",
   "execution_count": 23,
   "metadata": {},
   "outputs": [
    {
     "data": {
      "text/html": [
       "<div>\n",
       "<style scoped>\n",
       "    .dataframe tbody tr th:only-of-type {\n",
       "        vertical-align: middle;\n",
       "    }\n",
       "\n",
       "    .dataframe tbody tr th {\n",
       "        vertical-align: top;\n",
       "    }\n",
       "\n",
       "    .dataframe thead th {\n",
       "        text-align: right;\n",
       "    }\n",
       "</style>\n",
       "<table border=\"1\" class=\"dataframe\">\n",
       "  <thead>\n",
       "    <tr style=\"text-align: right;\">\n",
       "      <th></th>\n",
       "      <th>cbsa</th>\n",
       "      <th>geoid_x</th>\n",
       "      <th>MSA_x</th>\n",
       "      <th>December_2020_LaborForce</th>\n",
       "      <th>December_2020_URate</th>\n",
       "    </tr>\n",
       "  </thead>\n",
       "  <tbody>\n",
       "    <tr>\n",
       "      <th>0</th>\n",
       "      <td>11500</td>\n",
       "      <td>0111500</td>\n",
       "      <td>Anniston-Oxford, AL</td>\n",
       "      <td>44289.0</td>\n",
       "      <td>4.4</td>\n",
       "    </tr>\n",
       "    <tr>\n",
       "      <th>1</th>\n",
       "      <td>12220</td>\n",
       "      <td>0112220</td>\n",
       "      <td>Auburn-Opelika, AL</td>\n",
       "      <td>75408.0</td>\n",
       "      <td>3.0</td>\n",
       "    </tr>\n",
       "  </tbody>\n",
       "</table>\n",
       "</div>"
      ],
      "text/plain": [
       "    cbsa  geoid_x                MSA_x  December_2020_LaborForce  \\\n",
       "0  11500  0111500  Anniston-Oxford, AL                   44289.0   \n",
       "1  12220  0112220   Auburn-Opelika, AL                   75408.0   \n",
       "\n",
       "   December_2020_URate  \n",
       "0                  4.4  \n",
       "1                  3.0  "
      ]
     },
     "execution_count": 23,
     "metadata": {},
     "output_type": "execute_result"
    }
   ],
   "source": [
    "sumStats.head(2)"
   ]
  },
  {
   "cell_type": "code",
   "execution_count": 24,
   "metadata": {},
   "outputs": [],
   "source": [
    "msaSum = pd.merge(sumStats,msa,how='left',on='cbsa')"
   ]
  },
  {
   "cell_type": "code",
   "execution_count": 25,
   "metadata": {},
   "outputs": [],
   "source": [
    "msaSum['state'] = msaSum['MSA_x'].str[-2:]\n",
    "msaSum = msaSum[['cbsa','geoid','MSA_x','state','December_2020_LaborForce','December_2020_URate','geometry']]\n",
    "msaSum.rename(columns={'MSA_x':'msa'}, inplace=True)\n"
   ]
  },
  {
   "cell_type": "code",
   "execution_count": 26,
   "metadata": {},
   "outputs": [
    {
     "name": "stderr",
     "output_type": "stream",
     "text": [
      "/Users/mmainza/opt/anaconda3/lib/python3.7/site-packages/pyproj/crs/crs.py:53: FutureWarning: '+init=<authority>:<code>' syntax is deprecated. '<authority>:<code>' is the preferred initialization method. When making the change, be mindful of axis order changes: https://pyproj4.github.io/pyproj/stable/gotchas.html#axis-order-changes-in-proj-6\n",
      "  return _prepare_from_string(\" \".join(pjargs))\n"
     ]
    }
   ],
   "source": [
    "crs = {'init': 'epsg:4326'}\n",
    "msaSum = gpd.GeoDataFrame(msaSum, crs=crs, geometry=msaSum['geometry'])"
   ]
  },
  {
   "cell_type": "code",
   "execution_count": 27,
   "metadata": {},
   "outputs": [
    {
     "data": {
      "text/html": [
       "<div>\n",
       "<style scoped>\n",
       "    .dataframe tbody tr th:only-of-type {\n",
       "        vertical-align: middle;\n",
       "    }\n",
       "\n",
       "    .dataframe tbody tr th {\n",
       "        vertical-align: top;\n",
       "    }\n",
       "\n",
       "    .dataframe thead th {\n",
       "        text-align: right;\n",
       "    }\n",
       "</style>\n",
       "<table border=\"1\" class=\"dataframe\">\n",
       "  <thead>\n",
       "    <tr style=\"text-align: right;\">\n",
       "      <th></th>\n",
       "      <th>cbsa</th>\n",
       "      <th>geoid</th>\n",
       "      <th>msa</th>\n",
       "      <th>state</th>\n",
       "      <th>December_2020_LaborForce</th>\n",
       "      <th>December_2020_URate</th>\n",
       "      <th>geometry</th>\n",
       "    </tr>\n",
       "  </thead>\n",
       "  <tbody>\n",
       "    <tr>\n",
       "      <th>0</th>\n",
       "      <td>11500</td>\n",
       "      <td>0111500</td>\n",
       "      <td>Anniston-Oxford, AL</td>\n",
       "      <td>AL</td>\n",
       "      <td>44289.0</td>\n",
       "      <td>4.4</td>\n",
       "      <td>POINT (-85.82603 33.77143)</td>\n",
       "    </tr>\n",
       "    <tr>\n",
       "      <th>1</th>\n",
       "      <td>12220</td>\n",
       "      <td>0112220</td>\n",
       "      <td>Auburn-Opelika, AL</td>\n",
       "      <td>AL</td>\n",
       "      <td>75408.0</td>\n",
       "      <td>3.0</td>\n",
       "      <td>POINT (-85.35556 32.60114)</td>\n",
       "    </tr>\n",
       "    <tr>\n",
       "      <th>2</th>\n",
       "      <td>13820</td>\n",
       "      <td>0113820</td>\n",
       "      <td>Birmingham-Hoover, AL</td>\n",
       "      <td>AL</td>\n",
       "      <td>543586.0</td>\n",
       "      <td>3.5</td>\n",
       "      <td>POINT (-86.72819 33.40368)</td>\n",
       "    </tr>\n",
       "    <tr>\n",
       "      <th>3</th>\n",
       "      <td>19300</td>\n",
       "      <td>0119300</td>\n",
       "      <td>Daphne-Fairhope-Foley, AL</td>\n",
       "      <td>AL</td>\n",
       "      <td>91638.0</td>\n",
       "      <td>3.4</td>\n",
       "      <td>POINT (-87.74984 30.66097)</td>\n",
       "    </tr>\n",
       "    <tr>\n",
       "      <th>4</th>\n",
       "      <td>19460</td>\n",
       "      <td>0119460</td>\n",
       "      <td>Decatur, AL</td>\n",
       "      <td>AL</td>\n",
       "      <td>70864.0</td>\n",
       "      <td>2.9</td>\n",
       "      <td>POINT (-87.10264 34.49064)</td>\n",
       "    </tr>\n",
       "  </tbody>\n",
       "</table>\n",
       "</div>"
      ],
      "text/plain": [
       "    cbsa    geoid                        msa state  December_2020_LaborForce  \\\n",
       "0  11500  0111500        Anniston-Oxford, AL    AL                   44289.0   \n",
       "1  12220  0112220         Auburn-Opelika, AL    AL                   75408.0   \n",
       "2  13820  0113820      Birmingham-Hoover, AL    AL                  543586.0   \n",
       "3  19300  0119300  Daphne-Fairhope-Foley, AL    AL                   91638.0   \n",
       "4  19460  0119460                Decatur, AL    AL                   70864.0   \n",
       "\n",
       "   December_2020_URate                    geometry  \n",
       "0                  4.4  POINT (-85.82603 33.77143)  \n",
       "1                  3.0  POINT (-85.35556 32.60114)  \n",
       "2                  3.5  POINT (-86.72819 33.40368)  \n",
       "3                  3.4  POINT (-87.74984 30.66097)  \n",
       "4                  2.9  POINT (-87.10264 34.49064)  "
      ]
     },
     "execution_count": 27,
     "metadata": {},
     "output_type": "execute_result"
    }
   ],
   "source": [
    "msaSum.head()"
   ]
  },
  {
   "cell_type": "code",
   "execution_count": 28,
   "metadata": {},
   "outputs": [],
   "source": [
    "nulls = msaSum[msaSum['December_2020_LaborForce'].isnull()]"
   ]
  },
  {
   "cell_type": "code",
   "execution_count": 29,
   "metadata": {},
   "outputs": [
    {
     "data": {
      "text/html": [
       "<div>\n",
       "<style scoped>\n",
       "    .dataframe tbody tr th:only-of-type {\n",
       "        vertical-align: middle;\n",
       "    }\n",
       "\n",
       "    .dataframe tbody tr th {\n",
       "        vertical-align: top;\n",
       "    }\n",
       "\n",
       "    .dataframe thead th {\n",
       "        text-align: right;\n",
       "    }\n",
       "</style>\n",
       "<table border=\"1\" class=\"dataframe\">\n",
       "  <thead>\n",
       "    <tr style=\"text-align: right;\">\n",
       "      <th></th>\n",
       "      <th>cbsa</th>\n",
       "      <th>geoid</th>\n",
       "      <th>msa</th>\n",
       "      <th>state</th>\n",
       "      <th>December_2020_LaborForce</th>\n",
       "      <th>December_2020_URate</th>\n",
       "      <th>geometry</th>\n",
       "    </tr>\n",
       "  </thead>\n",
       "  <tbody>\n",
       "  </tbody>\n",
       "</table>\n",
       "</div>"
      ],
      "text/plain": [
       "Empty GeoDataFrame\n",
       "Columns: [cbsa, geoid, msa, state, December_2020_LaborForce, December_2020_URate, geometry]\n",
       "Index: []"
      ]
     },
     "execution_count": 29,
     "metadata": {},
     "output_type": "execute_result"
    }
   ],
   "source": [
    "nulls.head()"
   ]
  },
  {
   "cell_type": "code",
   "execution_count": 53,
   "metadata": {},
   "outputs": [],
   "source": [
    "msaSum.to_file('../../../data/spatial/msa/usMsaData.geojson', driver=\"GeoJSON\")"
   ]
  },
  {
   "cell_type": "code",
   "execution_count": null,
   "metadata": {},
   "outputs": [],
   "source": [
    "# summarize to get latest and previous year"
   ]
  },
  {
   "cell_type": "code",
   "execution_count": 54,
   "metadata": {},
   "outputs": [],
   "source": [
    "# write files\n",
    "\n",
    "msaList = pd.read_excel('../msaBlsSeries.xlsx', sheet_name=\"msaList\")\n",
    "series = pd.read_excel('../msaBlsSeries.xlsx', sheet_name=\"blsSeries\")"
   ]
  },
  {
   "cell_type": "code",
   "execution_count": 55,
   "metadata": {},
   "outputs": [],
   "source": [
    "msaList= pd.merge(msaList, series, how='left', on='MSA')"
   ]
  },
  {
   "cell_type": "code",
   "execution_count": 56,
   "metadata": {},
   "outputs": [],
   "source": [
    "msaList.to_excel('deteleMsaList.xlsx', index=False)"
   ]
  },
  {
   "cell_type": "code",
   "execution_count": 57,
   "metadata": {},
   "outputs": [
    {
     "data": {
      "text/plain": [
       "'/Users/mmainza/Desktop/projects/city-comparison/data/processing'"
      ]
     },
     "execution_count": 57,
     "metadata": {},
     "output_type": "execute_result"
    }
   ],
   "source": [
    "pwd"
   ]
  },
  {
   "cell_type": "code",
   "execution_count": null,
   "metadata": {},
   "outputs": [],
   "source": []
  },
  {
   "cell_type": "code",
   "execution_count": null,
   "metadata": {},
   "outputs": [],
   "source": []
  },
  {
   "cell_type": "code",
   "execution_count": 58,
   "metadata": {},
   "outputs": [],
   "source": [
    "msa = gpd.read_file('../../../data/spatial/msa/usMsaData.geojson')"
   ]
  },
  {
   "cell_type": "code",
   "execution_count": 59,
   "metadata": {},
   "outputs": [],
   "source": [
    "data= pd.read_excel('../data.xlsx', sheet_name=\"msaData\")"
   ]
  },
  {
   "cell_type": "code",
   "execution_count": 60,
   "metadata": {},
   "outputs": [],
   "source": [
    "df = pd.merge(msa,data,how='left',left_on='msa',right_on='MSA')"
   ]
  },
  {
   "cell_type": "code",
   "execution_count": 61,
   "metadata": {},
   "outputs": [],
   "source": [
    "df.sort_values('msa',inplace=True)"
   ]
  },
  {
   "cell_type": "code",
   "execution_count": 63,
   "metadata": {},
   "outputs": [],
   "source": [
    "df = df[['cbsa','geoid','msa','STATE','December_2020_LaborForce','December_2020_URate',\n",
    "         'Avg. Local Sales Tax','State Sales Tax','Total Sales Tax','Property Tax per Capita',\n",
    "         'Property Tax Rank','Property Tax Throw Back','Taxable Wages Rate','New Employers Rate',\n",
    "         'Taxable Wage Base','Payroll Tax Notes','Individual Tax Rate','Individual Tax Brackets',\n",
    "         'Graduated Individual Tax','Franchise Tax Rate','Corporate Tax Rate','Corporate Tax Brackets',\n",
    "         'Graduated Corporate Tax','CODB','Fortune 500','Fortune 1000','AIRPORT','CODE','NUMBER_AIRPORTS',\n",
    "         'NS_DOMESTIC','NS_INTERNATIONAL','NS_TOTAL','geometry']]"
   ]
  },
  {
   "cell_type": "code",
   "execution_count": 64,
   "metadata": {},
   "outputs": [
    {
     "name": "stderr",
     "output_type": "stream",
     "text": [
      "/Users/mmainza/opt/anaconda3/lib/python3.7/site-packages/pandas/core/generic.py:6245: SettingWithCopyWarning: \n",
      "A value is trying to be set on a copy of a slice from a DataFrame\n",
      "\n",
      "See the caveats in the documentation: https://pandas.pydata.org/pandas-docs/stable/user_guide/indexing.html#returning-a-view-versus-a-copy\n",
      "  self._update_inplace(new_data)\n"
     ]
    }
   ],
   "source": [
    "df['AIRPORT'].fillna('None', inplace=True)\n",
    "df['CODE'].fillna('None', inplace=True)"
   ]
  },
  {
   "cell_type": "code",
   "execution_count": 65,
   "metadata": {},
   "outputs": [
    {
     "name": "stderr",
     "output_type": "stream",
     "text": [
      "/Users/mmainza/opt/anaconda3/lib/python3.7/site-packages/pyproj/crs/crs.py:53: FutureWarning: '+init=<authority>:<code>' syntax is deprecated. '<authority>:<code>' is the preferred initialization method. When making the change, be mindful of axis order changes: https://pyproj4.github.io/pyproj/stable/gotchas.html#axis-order-changes-in-proj-6\n",
      "  return _prepare_from_string(\" \".join(pjargs))\n"
     ]
    }
   ],
   "source": [
    "crs = {'init': 'epsg:4326'}\n",
    "msaSum = gpd.GeoDataFrame(df, crs=crs, geometry=df['geometry'])"
   ]
  },
  {
   "cell_type": "code",
   "execution_count": 66,
   "metadata": {},
   "outputs": [],
   "source": [
    "msaGeo = gpd.read_file('../../../data/spatial/msa/usMsaAlbersMasterNODELETE.json')"
   ]
  },
  {
   "cell_type": "code",
   "execution_count": 67,
   "metadata": {},
   "outputs": [],
   "source": [
    "msaGeo = msaGeo[['msa','geometry']]"
   ]
  },
  {
   "cell_type": "code",
   "execution_count": 68,
   "metadata": {},
   "outputs": [],
   "source": [
    "msaSum = pd.merge(msaSum,msaGeo,how='left',on='msa')"
   ]
  },
  {
   "cell_type": "code",
   "execution_count": 73,
   "metadata": {},
   "outputs": [],
   "source": [
    "del msaSum['geometry_x']\n",
    "msaSum.rename(columns={'geometry_y':'geometry'}, inplace=True)"
   ]
  },
  {
   "cell_type": "code",
   "execution_count": 74,
   "metadata": {},
   "outputs": [
    {
     "name": "stderr",
     "output_type": "stream",
     "text": [
      "/Users/mmainza/opt/anaconda3/lib/python3.7/site-packages/pyproj/crs/crs.py:53: FutureWarning: '+init=<authority>:<code>' syntax is deprecated. '<authority>:<code>' is the preferred initialization method. When making the change, be mindful of axis order changes: https://pyproj4.github.io/pyproj/stable/gotchas.html#axis-order-changes-in-proj-6\n",
      "  return _prepare_from_string(\" \".join(pjargs))\n"
     ]
    }
   ],
   "source": [
    "crs = {'init': 'epsg:4326'}\n",
    "msaSum = gpd.GeoDataFrame(msaSum, crs=crs, geometry=msaSum['geometry'])"
   ]
  },
  {
   "cell_type": "code",
   "execution_count": 76,
   "metadata": {
    "scrolled": false
   },
   "outputs": [],
   "source": [
    "msaSum.to_file('../../../data/spatial/msa/usMsaData.geojson', driver=\"GeoJSON\")"
   ]
  },
  {
   "cell_type": "code",
   "execution_count": 96,
   "metadata": {},
   "outputs": [],
   "source": [
    "df = gpd.read_file('../../../data/spatial/msa/usMsaData.geojson')\n",
    "data = pd.read_excel('../data.xlsx', sheet_name=\"msaData\")\n",
    "airports = pd.read_excel('../data.xlsx', sheet_name=\"airService\",usecols=\"A,E\")"
   ]
  },
  {
   "cell_type": "code",
   "execution_count": 93,
   "metadata": {},
   "outputs": [
    {
     "data": {
      "text/html": [
       "<div>\n",
       "<style scoped>\n",
       "    .dataframe tbody tr th:only-of-type {\n",
       "        vertical-align: middle;\n",
       "    }\n",
       "\n",
       "    .dataframe tbody tr th {\n",
       "        vertical-align: top;\n",
       "    }\n",
       "\n",
       "    .dataframe thead th {\n",
       "        text-align: right;\n",
       "    }\n",
       "</style>\n",
       "<table border=\"1\" class=\"dataframe\">\n",
       "  <thead>\n",
       "    <tr style=\"text-align: right;\">\n",
       "      <th></th>\n",
       "      <th>msa</th>\n",
       "      <th>NUMBER_AIRPORTS</th>\n",
       "    </tr>\n",
       "  </thead>\n",
       "  <tbody>\n",
       "    <tr>\n",
       "      <th>0</th>\n",
       "      <td>Birmingham-Hoover, AL</td>\n",
       "      <td>1</td>\n",
       "    </tr>\n",
       "    <tr>\n",
       "      <th>1</th>\n",
       "      <td>Kapaa, HI</td>\n",
       "      <td>1</td>\n",
       "    </tr>\n",
       "    <tr>\n",
       "      <th>2</th>\n",
       "      <td>Bozeman, MT</td>\n",
       "      <td>1</td>\n",
       "    </tr>\n",
       "    <tr>\n",
       "      <th>3</th>\n",
       "      <td>Knoxville, TN</td>\n",
       "      <td>1</td>\n",
       "    </tr>\n",
       "    <tr>\n",
       "      <th>4</th>\n",
       "      <td>Phoenix-Mesa-Scottsdale, AZ</td>\n",
       "      <td>1</td>\n",
       "    </tr>\n",
       "  </tbody>\n",
       "</table>\n",
       "</div>"
      ],
      "text/plain": [
       "                           msa  NUMBER_AIRPORTS\n",
       "0        Birmingham-Hoover, AL                1\n",
       "1                    Kapaa, HI                1\n",
       "2                  Bozeman, MT                1\n",
       "3                Knoxville, TN                1\n",
       "4  Phoenix-Mesa-Scottsdale, AZ                1"
      ]
     },
     "execution_count": 93,
     "metadata": {},
     "output_type": "execute_result"
    }
   ],
   "source": [
    "airports.head()"
   ]
  },
  {
   "cell_type": "code",
   "execution_count": 64,
   "metadata": {},
   "outputs": [],
   "source": [
    "df = df[['cbsa','geoid','msa','STATE','December_2020_LaborForce','December_2020_URate','AIRPORT','CODE',\n",
    "         'NS_DOMESTIC','NS_INTERNATIONAL','NS_TOTAL','geometry']]"
   ]
  },
  {
   "cell_type": "code",
   "execution_count": 94,
   "metadata": {},
   "outputs": [],
   "source": [
    "file = pd.merge(df,data,how='left',on=['msa','STATE'])"
   ]
  },
  {
   "cell_type": "code",
   "execution_count": 107,
   "metadata": {},
   "outputs": [],
   "source": [
    "df['NUMBER_AIRPORTS'].fillna(0, inplace=True)\n",
    "df['NUMBER_AIRPORTS'] = df['NUMBER_AIRPORTS'].astype(int)"
   ]
  },
  {
   "cell_type": "code",
   "execution_count": 100,
   "metadata": {},
   "outputs": [
    {
     "name": "stderr",
     "output_type": "stream",
     "text": [
      "/Users/mmainza/opt/anaconda3/lib/python3.7/site-packages/pyproj/crs/crs.py:53: FutureWarning: '+init=<authority>:<code>' syntax is deprecated. '<authority>:<code>' is the preferred initialization method. When making the change, be mindful of axis order changes: https://pyproj4.github.io/pyproj/stable/gotchas.html#axis-order-changes-in-proj-6\n",
      "  return _prepare_from_string(\" \".join(pjargs))\n"
     ]
    }
   ],
   "source": [
    "crs = {'init': 'epsg:4326'}\n",
    "df = gpd.GeoDataFrame(df, crs=crs, geometry=df['geometry'])"
   ]
  },
  {
   "cell_type": "code",
   "execution_count": 108,
   "metadata": {},
   "outputs": [
    {
     "data": {
      "text/plain": [
       "cbsa                              object\n",
       "geoid                             object\n",
       "msa                               object\n",
       "STATE                             object\n",
       "December_2020_LaborForce         float64\n",
       "December_2020_URate              float64\n",
       "NUMBER_AIRPORTS                    int64\n",
       "AIRPORT                           object\n",
       "CODE                              object\n",
       "NS_DOMESTIC                        int64\n",
       "NS_INTERNATIONAL                   int64\n",
       "NS_TOTAL                           int64\n",
       "Avg. Local Sales Tax             float64\n",
       "State Sales Tax                  float64\n",
       "Total Sales Tax                  float64\n",
       "Property Tax per Capita          float64\n",
       "Property Tax Rank                float64\n",
       "Property Tax Throw Back           object\n",
       "Taxable Wages Rate                object\n",
       "New Employers Rate               float64\n",
       "Taxable Wage Base                float64\n",
       "Payroll Tax Notes                 object\n",
       "Individual Tax Rate              float64\n",
       "Individual Tax Brackets          float64\n",
       "Graduated Individual Tax          object\n",
       "Franchise Tax Rate                object\n",
       "Corporate Tax Rate               float64\n",
       "Corporate Tax Brackets           float64\n",
       "Graduated Corporate Tax           object\n",
       "STATE_CODB                       float64\n",
       "Fortune 500                      float64\n",
       "Fortune 1000                     float64\n",
       "HOUSING_PERMITS1                 float64\n",
       "HOUSING_PERMITS2                 float64\n",
       "PERMIT_CHANGE                    float64\n",
       "SCORE                            float64\n",
       "TOTPOP_CY                        float64\n",
       "TOTPOP_FY                        float64\n",
       "POP_ANNUAL_GROWTH                float64\n",
       "MEDAGE_CY                        float64\n",
       "MEDHHINC_CY                      float64\n",
       "HOME_VALUE                       float64\n",
       "COLLEGE_DEGREE                   float64\n",
       "DIV_INDEX                        float64\n",
       "URBAN_AREA                        object\n",
       "COMP_INDEX                       float64\n",
       "GROCERY                          float64\n",
       "HOUSING                          float64\n",
       "UTILITIES                        float64\n",
       "TRANSPORTATION                   float64\n",
       "HEALTH_CARE                      float64\n",
       "MISC                             float64\n",
       "APT_RENT                         float64\n",
       "PHYSICAL_SCIENCES_ENROLLMENT     float64\n",
       "BIO_LIFE_ENROLLMENT              float64\n",
       "BUSINESS_MGMT_ENROLLMENT         float64\n",
       "EDUCATION_ENROLLMENT             float64\n",
       "ENGINEERING_ENROLLMENT           float64\n",
       "LAW_ENROLLMENT                   float64\n",
       "MEDICINE_ENROLLMENT              float64\n",
       "ENROLLMENT                       float64\n",
       "COMPLETIONS                      float64\n",
       "NUMBER_OF_COLLEGES               float64\n",
       "MSA_CODB                         float64\n",
       "UNIT_LABOR_COST                  float64\n",
       "ENERGY_COST                      float64\n",
       "STATE_LOCAL_TAX                  float64\n",
       "OFFICE_RENT                      float64\n",
       "JAN_RAIN                         float64\n",
       "JAN_SNOW                         float64\n",
       "JAN_TEMP_MAX                     float64\n",
       "JAN_TEMP_MIN                     float64\n",
       "JULY_RAIN                        float64\n",
       "JULY_SNOW                        float64\n",
       "JULY_TEMP_MAX                    float64\n",
       "JULY_TEMP_MIN                    float64\n",
       "geometry                        geometry\n",
       "dtype: object"
      ]
     },
     "execution_count": 108,
     "metadata": {},
     "output_type": "execute_result"
    }
   ],
   "source": [
    "df.dtypes"
   ]
  },
  {
   "cell_type": "code",
   "execution_count": 110,
   "metadata": {},
   "outputs": [],
   "source": [
    "df.to_file('../../../data/spatial/msa/usMsaData.geojson', driver=\"GeoJSON\")"
   ]
  },
  {
   "cell_type": "code",
   "execution_count": 111,
   "metadata": {},
   "outputs": [],
   "source": [
    "df.to_csv('deleteMe.csv', index=False)"
   ]
  },
  {
   "cell_type": "code",
   "execution_count": null,
   "metadata": {},
   "outputs": [],
   "source": []
  }
 ],
 "metadata": {
  "kernelspec": {
   "display_name": "Python 3",
   "language": "python",
   "name": "python3"
  },
  "language_info": {
   "codemirror_mode": {
    "name": "ipython",
    "version": 3
   },
   "file_extension": ".py",
   "mimetype": "text/x-python",
   "name": "python",
   "nbconvert_exporter": "python",
   "pygments_lexer": "ipython3",
   "version": "3.7.6"
  }
 },
 "nbformat": 4,
 "nbformat_minor": 4
}
