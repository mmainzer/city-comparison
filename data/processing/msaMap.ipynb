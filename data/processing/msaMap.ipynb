{
 "cells": [
  {
   "cell_type": "code",
   "execution_count": 1,
   "metadata": {},
   "outputs": [],
   "source": [
    "import pandas as pd\n",
    "import geopandas as gpd\n",
    "import fiona\n",
    "\n",
    "pd.set_option('display.max_columns', None)"
   ]
  },
  {
   "cell_type": "code",
   "execution_count": 2,
   "metadata": {},
   "outputs": [
    {
     "data": {
      "text/plain": [
       "'/Users/mmainza/Desktop/projects/city-comparison/data/processing'"
      ]
     },
     "execution_count": 2,
     "metadata": {},
     "output_type": "execute_result"
    }
   ],
   "source": [
    "pwd"
   ]
  },
  {
   "cell_type": "code",
   "execution_count": 20,
   "metadata": {},
   "outputs": [],
   "source": [
    "msaGeo = gpd.read_file('../../../data/spatial/msa/us_msa_centroids.geojson')\n",
    "msa = pd.read_excel('../../../data/geographies/cbsa.xlsx', converters={'FIPS State':str, 'CBSA Code':str})"
   ]
  },
  {
   "cell_type": "code",
   "execution_count": 21,
   "metadata": {},
   "outputs": [],
   "source": [
    "msa = msa[['CBSA Code','CBSA Title','FIPS State']]\n",
    "msa.drop_duplicates(subset='CBSA Code', inplace=True)"
   ]
  },
  {
   "cell_type": "code",
   "execution_count": 22,
   "metadata": {},
   "outputs": [],
   "source": [
    "msaGeo = msaGeo[['GEOID','NAME','geometry']]"
   ]
  },
  {
   "cell_type": "code",
   "execution_count": 23,
   "metadata": {},
   "outputs": [],
   "source": [
    "data = pd.merge(msaGeo,msa,how='left', left_on='GEOID', right_on='CBSA Code')"
   ]
  },
  {
   "cell_type": "code",
   "execution_count": 24,
   "metadata": {},
   "outputs": [
    {
     "data": {
      "text/plain": [
       "(926, 3)"
      ]
     },
     "execution_count": 24,
     "metadata": {},
     "output_type": "execute_result"
    }
   ],
   "source": [
    "msaGeo.shape"
   ]
  },
  {
   "cell_type": "code",
   "execution_count": 25,
   "metadata": {},
   "outputs": [
    {
     "data": {
      "text/plain": [
       "(926, 6)"
      ]
     },
     "execution_count": 25,
     "metadata": {},
     "output_type": "execute_result"
    }
   ],
   "source": [
    "data.shape"
   ]
  },
  {
   "cell_type": "code",
   "execution_count": 26,
   "metadata": {},
   "outputs": [
    {
     "data": {
      "text/html": [
       "<div>\n",
       "<style scoped>\n",
       "    .dataframe tbody tr th:only-of-type {\n",
       "        vertical-align: middle;\n",
       "    }\n",
       "\n",
       "    .dataframe tbody tr th {\n",
       "        vertical-align: top;\n",
       "    }\n",
       "\n",
       "    .dataframe thead th {\n",
       "        text-align: right;\n",
       "    }\n",
       "</style>\n",
       "<table border=\"1\" class=\"dataframe\">\n",
       "  <thead>\n",
       "    <tr style=\"text-align: right;\">\n",
       "      <th></th>\n",
       "      <th>GEOID</th>\n",
       "      <th>NAME</th>\n",
       "      <th>geometry</th>\n",
       "      <th>CBSA Code</th>\n",
       "      <th>CBSA Title</th>\n",
       "      <th>FIPS State</th>\n",
       "    </tr>\n",
       "  </thead>\n",
       "  <tbody>\n",
       "    <tr>\n",
       "      <th>0</th>\n",
       "      <td>12020</td>\n",
       "      <td>Athens-Clarke County, GA</td>\n",
       "      <td>POINT (-83.21379 33.94901)</td>\n",
       "      <td>12020</td>\n",
       "      <td>Athens-Clarke County, GA</td>\n",
       "      <td>13</td>\n",
       "    </tr>\n",
       "    <tr>\n",
       "      <th>1</th>\n",
       "      <td>12060</td>\n",
       "      <td>Atlanta-Sandy Springs-Alpharetta, GA</td>\n",
       "      <td>POINT (-84.39957 33.69277)</td>\n",
       "      <td>12060</td>\n",
       "      <td>Atlanta-Sandy Springs-Alpharetta, GA</td>\n",
       "      <td>13</td>\n",
       "    </tr>\n",
       "    <tr>\n",
       "      <th>2</th>\n",
       "      <td>12100</td>\n",
       "      <td>Atlantic City-Hammonton, NJ</td>\n",
       "      <td>POINT (-74.63373 39.46883)</td>\n",
       "      <td>12100</td>\n",
       "      <td>Atlantic City-Hammonton, NJ</td>\n",
       "      <td>34</td>\n",
       "    </tr>\n",
       "    <tr>\n",
       "      <th>3</th>\n",
       "      <td>12120</td>\n",
       "      <td>Atmore, AL</td>\n",
       "      <td>POINT (-87.16162 31.12612)</td>\n",
       "      <td>12120</td>\n",
       "      <td>Atmore, AL</td>\n",
       "      <td>01</td>\n",
       "    </tr>\n",
       "    <tr>\n",
       "      <th>4</th>\n",
       "      <td>12140</td>\n",
       "      <td>Auburn, IN</td>\n",
       "      <td>POINT (-84.99908 41.39758)</td>\n",
       "      <td>12140</td>\n",
       "      <td>Auburn, IN</td>\n",
       "      <td>18</td>\n",
       "    </tr>\n",
       "  </tbody>\n",
       "</table>\n",
       "</div>"
      ],
      "text/plain": [
       "   GEOID                                  NAME                    geometry  \\\n",
       "0  12020              Athens-Clarke County, GA  POINT (-83.21379 33.94901)   \n",
       "1  12060  Atlanta-Sandy Springs-Alpharetta, GA  POINT (-84.39957 33.69277)   \n",
       "2  12100           Atlantic City-Hammonton, NJ  POINT (-74.63373 39.46883)   \n",
       "3  12120                            Atmore, AL  POINT (-87.16162 31.12612)   \n",
       "4  12140                            Auburn, IN  POINT (-84.99908 41.39758)   \n",
       "\n",
       "  CBSA Code                            CBSA Title FIPS State  \n",
       "0     12020              Athens-Clarke County, GA         13  \n",
       "1     12060  Atlanta-Sandy Springs-Alpharetta, GA         13  \n",
       "2     12100           Atlantic City-Hammonton, NJ         34  \n",
       "3     12120                            Atmore, AL         01  \n",
       "4     12140                            Auburn, IN         18  "
      ]
     },
     "execution_count": 26,
     "metadata": {},
     "output_type": "execute_result"
    }
   ],
   "source": [
    "data.head()"
   ]
  },
  {
   "cell_type": "code",
   "execution_count": 27,
   "metadata": {},
   "outputs": [],
   "source": [
    "data['geoid'] = data['FIPS State']+data['CBSA Code']"
   ]
  },
  {
   "cell_type": "code",
   "execution_count": 29,
   "metadata": {},
   "outputs": [],
   "source": [
    "data.rename(columns={'CBSA Code':'cbsa','NAME':'area'}, inplace=True)"
   ]
  },
  {
   "cell_type": "code",
   "execution_count": 31,
   "metadata": {},
   "outputs": [],
   "source": [
    "data = data[['geoid','cbsa','area','geometry']]"
   ]
  },
  {
   "cell_type": "code",
   "execution_count": 37,
   "metadata": {},
   "outputs": [
    {
     "name": "stderr",
     "output_type": "stream",
     "text": [
      "/Users/mmainza/opt/anaconda3/lib/python3.7/site-packages/pyproj/crs/crs.py:53: FutureWarning: '+init=<authority>:<code>' syntax is deprecated. '<authority>:<code>' is the preferred initialization method. When making the change, be mindful of axis order changes: https://pyproj4.github.io/pyproj/stable/gotchas.html#axis-order-changes-in-proj-6\n",
      "  return _prepare_from_string(\" \".join(pjargs))\n"
     ]
    }
   ],
   "source": [
    "crs = {'init': 'epsg:4326'}\n",
    "data = gpd.GeoDataFrame(data, crs=crs, geometry=data['geometry'])"
   ]
  },
  {
   "cell_type": "code",
   "execution_count": 39,
   "metadata": {},
   "outputs": [],
   "source": [
    "data.to_file('../../../data/spatial/msa/usMsaCentroids.geojson', driver=\"GeoJSON\")"
   ]
  },
  {
   "cell_type": "code",
   "execution_count": 11,
   "metadata": {},
   "outputs": [],
   "source": [
    "msa = gpd.read_file('../../../data/spatial/msa/usMsaCentroids.geojson')"
   ]
  },
  {
   "cell_type": "code",
   "execution_count": 13,
   "metadata": {},
   "outputs": [
    {
     "data": {
      "text/html": [
       "<div>\n",
       "<style scoped>\n",
       "    .dataframe tbody tr th:only-of-type {\n",
       "        vertical-align: middle;\n",
       "    }\n",
       "\n",
       "    .dataframe tbody tr th {\n",
       "        vertical-align: top;\n",
       "    }\n",
       "\n",
       "    .dataframe thead th {\n",
       "        text-align: right;\n",
       "    }\n",
       "</style>\n",
       "<table border=\"1\" class=\"dataframe\">\n",
       "  <thead>\n",
       "    <tr style=\"text-align: right;\">\n",
       "      <th></th>\n",
       "      <th>MSA</th>\n",
       "      <th>STATE</th>\n",
       "      <th>Avg. Local Sales Tax</th>\n",
       "      <th>State Sales Tax</th>\n",
       "      <th>Total Sales Tax</th>\n",
       "      <th>Property Tax per Capita</th>\n",
       "      <th>Property Tax Rank</th>\n",
       "      <th>Property Tax Throw Back</th>\n",
       "      <th>Taxable Wages Rate</th>\n",
       "      <th>New Employers Rate</th>\n",
       "      <th>Taxable Wage Base</th>\n",
       "      <th>Payroll Tax Notes</th>\n",
       "      <th>Individual Tax Rate</th>\n",
       "      <th>Individual Tax Brackets</th>\n",
       "      <th>Graduated Individual Tax</th>\n",
       "      <th>Franchise Tax Rate</th>\n",
       "      <th>Corporate Tax Rate</th>\n",
       "      <th>Corporate Tax Brackets</th>\n",
       "      <th>Graduated Corporate Tax</th>\n",
       "      <th>CODB</th>\n",
       "      <th>Fortune 500</th>\n",
       "      <th>Fortune 1000</th>\n",
       "      <th>AIRPORT</th>\n",
       "      <th>CODE</th>\n",
       "      <th>NUMBER_AIRPORTS</th>\n",
       "      <th>NS_DOMESTIC</th>\n",
       "      <th>NS_INTERNATIONAL</th>\n",
       "      <th>NS_TOTAL</th>\n",
       "    </tr>\n",
       "  </thead>\n",
       "  <tbody>\n",
       "    <tr>\n",
       "      <th>0</th>\n",
       "      <td>Lafayette-West Lafayette, IN</td>\n",
       "      <td>IN</td>\n",
       "      <td>0.00</td>\n",
       "      <td>7.00</td>\n",
       "      <td>7.00</td>\n",
       "      <td>1041.0</td>\n",
       "      <td>35.0</td>\n",
       "      <td>No</td>\n",
       "      <td>0.50 - 7.40%</td>\n",
       "      <td>NaN</td>\n",
       "      <td>9500</td>\n",
       "      <td>NaN</td>\n",
       "      <td>3.23</td>\n",
       "      <td>1</td>\n",
       "      <td>No</td>\n",
       "      <td>No entity-level tax measured by net worth/capi...</td>\n",
       "      <td>5.5</td>\n",
       "      <td>1</td>\n",
       "      <td>No</td>\n",
       "      <td>94</td>\n",
       "      <td>0</td>\n",
       "      <td>1</td>\n",
       "      <td>NaN</td>\n",
       "      <td>NaN</td>\n",
       "      <td>0</td>\n",
       "      <td>0</td>\n",
       "      <td>0</td>\n",
       "      <td>0</td>\n",
       "    </tr>\n",
       "    <tr>\n",
       "      <th>1</th>\n",
       "      <td>Madison, WI</td>\n",
       "      <td>WI</td>\n",
       "      <td>0.46</td>\n",
       "      <td>5.00</td>\n",
       "      <td>5.46</td>\n",
       "      <td>1655.0</td>\n",
       "      <td>14.0</td>\n",
       "      <td>Yes</td>\n",
       "      <td>0.00- 12.00%</td>\n",
       "      <td>NaN</td>\n",
       "      <td>14000</td>\n",
       "      <td>Includes solvency surtax</td>\n",
       "      <td>7.65</td>\n",
       "      <td>4</td>\n",
       "      <td>Yes</td>\n",
       "      <td>No entity-level tax measured by net worth/capi...</td>\n",
       "      <td>7.9</td>\n",
       "      <td>1</td>\n",
       "      <td>No</td>\n",
       "      <td>102</td>\n",
       "      <td>1</td>\n",
       "      <td>4</td>\n",
       "      <td>Madison</td>\n",
       "      <td>MSN</td>\n",
       "      <td>1</td>\n",
       "      <td>15</td>\n",
       "      <td>0</td>\n",
       "      <td>15</td>\n",
       "    </tr>\n",
       "    <tr>\n",
       "      <th>2</th>\n",
       "      <td>Michigan City-La Porte, IN</td>\n",
       "      <td>IN</td>\n",
       "      <td>0.00</td>\n",
       "      <td>7.00</td>\n",
       "      <td>7.00</td>\n",
       "      <td>1041.0</td>\n",
       "      <td>35.0</td>\n",
       "      <td>No</td>\n",
       "      <td>0.50 - 7.40%</td>\n",
       "      <td>NaN</td>\n",
       "      <td>9500</td>\n",
       "      <td>NaN</td>\n",
       "      <td>3.23</td>\n",
       "      <td>1</td>\n",
       "      <td>No</td>\n",
       "      <td>No entity-level tax measured by net worth/capi...</td>\n",
       "      <td>5.5</td>\n",
       "      <td>1</td>\n",
       "      <td>No</td>\n",
       "      <td>94</td>\n",
       "      <td>0</td>\n",
       "      <td>0</td>\n",
       "      <td>NaN</td>\n",
       "      <td>NaN</td>\n",
       "      <td>0</td>\n",
       "      <td>0</td>\n",
       "      <td>0</td>\n",
       "      <td>0</td>\n",
       "    </tr>\n",
       "    <tr>\n",
       "      <th>3</th>\n",
       "      <td>Milwaukee-Waukesha-West Allis, WI</td>\n",
       "      <td>WI</td>\n",
       "      <td>0.46</td>\n",
       "      <td>5.00</td>\n",
       "      <td>5.46</td>\n",
       "      <td>1655.0</td>\n",
       "      <td>14.0</td>\n",
       "      <td>Yes</td>\n",
       "      <td>0.00- 12.00%</td>\n",
       "      <td>NaN</td>\n",
       "      <td>14000</td>\n",
       "      <td>Includes solvency surtax</td>\n",
       "      <td>7.65</td>\n",
       "      <td>4</td>\n",
       "      <td>Yes</td>\n",
       "      <td>No entity-level tax measured by net worth/capi...</td>\n",
       "      <td>7.9</td>\n",
       "      <td>1</td>\n",
       "      <td>No</td>\n",
       "      <td>102</td>\n",
       "      <td>6</td>\n",
       "      <td>12</td>\n",
       "      <td>Milwaukee</td>\n",
       "      <td>MKE</td>\n",
       "      <td>1</td>\n",
       "      <td>33</td>\n",
       "      <td>2</td>\n",
       "      <td>35</td>\n",
       "    </tr>\n",
       "    <tr>\n",
       "      <th>4</th>\n",
       "      <td>New Orleans-Metairie, LA</td>\n",
       "      <td>LA</td>\n",
       "      <td>5.07</td>\n",
       "      <td>4.45</td>\n",
       "      <td>9.52</td>\n",
       "      <td>901.0</td>\n",
       "      <td>44.0</td>\n",
       "      <td>No</td>\n",
       "      <td>0.09 - 6.20%</td>\n",
       "      <td>NaN</td>\n",
       "      <td>7700</td>\n",
       "      <td>Includes applicable social charge assessments</td>\n",
       "      <td>6.00</td>\n",
       "      <td>3</td>\n",
       "      <td>Yes</td>\n",
       "      <td>$1.50 per $1,000 of first $300,000 and $3.00 p...</td>\n",
       "      <td>8.0</td>\n",
       "      <td>5</td>\n",
       "      <td>Yes</td>\n",
       "      <td>91</td>\n",
       "      <td>1</td>\n",
       "      <td>2</td>\n",
       "      <td>New Orleans</td>\n",
       "      <td>MSY</td>\n",
       "      <td>1</td>\n",
       "      <td>44</td>\n",
       "      <td>5</td>\n",
       "      <td>49</td>\n",
       "    </tr>\n",
       "  </tbody>\n",
       "</table>\n",
       "</div>"
      ],
      "text/plain": [
       "                                 MSA STATE  Avg. Local Sales Tax  \\\n",
       "0       Lafayette-West Lafayette, IN    IN                  0.00   \n",
       "1                        Madison, WI    WI                  0.46   \n",
       "2         Michigan City-La Porte, IN    IN                  0.00   \n",
       "3  Milwaukee-Waukesha-West Allis, WI    WI                  0.46   \n",
       "4           New Orleans-Metairie, LA    LA                  5.07   \n",
       "\n",
       "   State Sales Tax  Total Sales Tax  Property Tax per Capita  \\\n",
       "0             7.00             7.00                   1041.0   \n",
       "1             5.00             5.46                   1655.0   \n",
       "2             7.00             7.00                   1041.0   \n",
       "3             5.00             5.46                   1655.0   \n",
       "4             4.45             9.52                    901.0   \n",
       "\n",
       "   Property Tax Rank Property Tax Throw Back Taxable Wages Rate  \\\n",
       "0               35.0                      No       0.50 - 7.40%   \n",
       "1               14.0                     Yes       0.00- 12.00%   \n",
       "2               35.0                      No       0.50 - 7.40%   \n",
       "3               14.0                     Yes       0.00- 12.00%   \n",
       "4               44.0                      No       0.09 - 6.20%   \n",
       "\n",
       "   New Employers Rate  Taxable Wage Base  \\\n",
       "0                 NaN               9500   \n",
       "1                 NaN              14000   \n",
       "2                 NaN               9500   \n",
       "3                 NaN              14000   \n",
       "4                 NaN               7700   \n",
       "\n",
       "                               Payroll Tax Notes  Individual Tax Rate  \\\n",
       "0                                            NaN                 3.23   \n",
       "1                       Includes solvency surtax                 7.65   \n",
       "2                                            NaN                 3.23   \n",
       "3                       Includes solvency surtax                 7.65   \n",
       "4  Includes applicable social charge assessments                 6.00   \n",
       "\n",
       "   Individual Tax Brackets Graduated Individual Tax  \\\n",
       "0                        1                       No   \n",
       "1                        4                      Yes   \n",
       "2                        1                       No   \n",
       "3                        4                      Yes   \n",
       "4                        3                      Yes   \n",
       "\n",
       "                                  Franchise Tax Rate  Corporate Tax Rate  \\\n",
       "0  No entity-level tax measured by net worth/capi...                 5.5   \n",
       "1  No entity-level tax measured by net worth/capi...                 7.9   \n",
       "2  No entity-level tax measured by net worth/capi...                 5.5   \n",
       "3  No entity-level tax measured by net worth/capi...                 7.9   \n",
       "4  $1.50 per $1,000 of first $300,000 and $3.00 p...                 8.0   \n",
       "\n",
       "   Corporate Tax Brackets Graduated Corporate Tax  CODB  Fortune 500  \\\n",
       "0                       1                      No    94            0   \n",
       "1                       1                      No   102            1   \n",
       "2                       1                      No    94            0   \n",
       "3                       1                      No   102            6   \n",
       "4                       5                     Yes    91            1   \n",
       "\n",
       "   Fortune 1000      AIRPORT CODE  NUMBER_AIRPORTS  NS_DOMESTIC  \\\n",
       "0             1          NaN  NaN                0            0   \n",
       "1             4      Madison  MSN                1           15   \n",
       "2             0          NaN  NaN                0            0   \n",
       "3            12    Milwaukee  MKE                1           33   \n",
       "4             2  New Orleans  MSY                1           44   \n",
       "\n",
       "   NS_INTERNATIONAL  NS_TOTAL  \n",
       "0                 0         0  \n",
       "1                 0        15  \n",
       "2                 0         0  \n",
       "3                 2        35  \n",
       "4                 5        49  "
      ]
     },
     "execution_count": 13,
     "metadata": {},
     "output_type": "execute_result"
    }
   ],
   "source": [
    "data.head()"
   ]
  },
  {
   "cell_type": "code",
   "execution_count": null,
   "metadata": {},
   "outputs": [],
   "source": []
  }
 ],
 "metadata": {
  "kernelspec": {
   "display_name": "Python 3",
   "language": "python",
   "name": "python3"
  },
  "language_info": {
   "codemirror_mode": {
    "name": "ipython",
    "version": 3
   },
   "file_extension": ".py",
   "mimetype": "text/x-python",
   "name": "python",
   "nbconvert_exporter": "python",
   "pygments_lexer": "ipython3",
   "version": "3.7.6"
  }
 },
 "nbformat": 4,
 "nbformat_minor": 4
}
