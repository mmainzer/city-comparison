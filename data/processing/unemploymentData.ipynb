{
 "cells": [
  {
   "cell_type": "code",
   "execution_count": 56,
   "metadata": {},
   "outputs": [],
   "source": [
    "import pandas as pd\n",
    "pd.set_option('display.max_columns', None)\n",
    "\n",
    "import requests\n",
    "import json\n",
    "import prettytable"
   ]
  },
  {
   "cell_type": "code",
   "execution_count": 192,
   "metadata": {},
   "outputs": [],
   "source": [
    "blsSeries = pd.read_excel('../msaBlsSeries.xlsx')"
   ]
  },
  {
   "cell_type": "code",
   "execution_count": 129,
   "metadata": {},
   "outputs": [],
   "source": [
    "months = {'January':1, 'February':2, 'March':3, 'April':4, 'May':5, 'June':6, 'July':7, 'August':8,\n",
    "          'September':9,'October':10,'November':11,'December':12}"
   ]
  },
  {
   "cell_type": "code",
   "execution_count": 88,
   "metadata": {},
   "outputs": [],
   "source": [
    "uRateList = blsSeries['unemploymentRateSeries'].tolist()\n",
    "uRateChunk1 = uRateList[:50]\n",
    "areas = ','.join(uRateChunk1)"
   ]
  },
  {
   "cell_type": "code",
   "execution_count": 113,
   "metadata": {},
   "outputs": [],
   "source": [
    "url = 'https://api.bls.gov/publicAPI/v2/timeseries/data/?registrationkey=2075e7710bca44038c4abc07eecee9d5'\n",
    "postSettings = {\n",
    "                  \"url\": \"https://api.bls.gov/publicAPI/v2/timeseries/data/?registrationkey=2075e7710bca44038c4abc07eecee9d5\",\n",
    "                  \"method\": \"POST\",\n",
    "                  \"headers\": {\n",
    "                    \"Content-Type\": \"application/x-www-form-urlencoded\"\n",
    "                  },\n",
    "                  \"data\": {\n",
    "                    \"seriesid\": areas,\n",
    "                    \"startyear\":\"2017\",\n",
    "                    \"endyear\":\"2020\",\n",
    "                  }\n",
    "                }\n",
    "\n",
    "response = requests.post(url, data = {\"seriesid\":areas,\"startyear\":\"2018\",\"endyear\":\"2020\"})"
   ]
  },
  {
   "cell_type": "code",
   "execution_count": 114,
   "metadata": {},
   "outputs": [],
   "source": [
    "json_data = json.loads(response.text)\n",
    "seriesId = []\n",
    "year = []\n",
    "month = []\n",
    "value = []\n",
    "\n",
    "for series in json_data['Results']['series']:\n",
    "    sid = series['seriesID']\n",
    "    for item in series['data']:\n",
    "        seriesId.append( sid )\n",
    "        year.append( item['year'] )\n",
    "        month.append ( item['periodName'] )\n",
    "        value.append( item['value'] )\n",
    "        \n",
    "df = pd.DataFrame({'seriesId':seriesId,'month':month,'year':year,'value':value})\n",
    "uRate = blsSeries[['MSA','unemploymentRateSeries']]"
   ]
  },
  {
   "cell_type": "code",
   "execution_count": 122,
   "metadata": {},
   "outputs": [],
   "source": [
    "df = pd.merge(df,uRate,how='left',left_on='seriesId',right_on='unemploymentRateSeries')\n",
    "df['Day'] = 1\n",
    "df['Month'] = df.month.map(months)\n",
    "df['date'] = pd.to_datetime(df[['Month','Day','year']])\n",
    "df.sort_values(['seriesId','date'], inplace=True)\n",
    "df['Month'] = df['month'].str[:3]\n",
    "df['Date'] = df['Month'] + \" \" + df['year']\n",
    "df['value'] = df['value'].astype(float)\n",
    "\n",
    "data = df.pivot_table('value', ['Date', 'date'], 'MSA')\n",
    "data.reset_index(inplace=True)\n",
    "data.sort_values('date', inplace=True)\n",
    "del data['date']"
   ]
  },
  {
   "cell_type": "code",
   "execution_count": 167,
   "metadata": {},
   "outputs": [],
   "source": [
    "data.to_csv('deleteTest.csv', index=False)"
   ]
  },
  {
   "cell_type": "code",
   "execution_count": null,
   "metadata": {},
   "outputs": [],
   "source": []
  },
  {
   "cell_type": "markdown",
   "metadata": {},
   "source": [
    "# Repeat that process but with the total labor force"
   ]
  },
  {
   "cell_type": "code",
   "execution_count": 184,
   "metadata": {},
   "outputs": [],
   "source": [
    "lfList = blsSeries['laborForceSeries'].tolist()\n",
    "lfChunk1 = lfList[:50]\n",
    "areas = ','.join( lfChunk1 )"
   ]
  },
  {
   "cell_type": "code",
   "execution_count": 185,
   "metadata": {},
   "outputs": [],
   "source": [
    "url = 'https://api.bls.gov/publicAPI/v2/timeseries/data/?registrationkey=2075e7710bca44038c4abc07eecee9d5'\n",
    "postSettings = {\n",
    "                  \"url\": \"https://api.bls.gov/publicAPI/v2/timeseries/data/?registrationkey=2075e7710bca44038c4abc07eecee9d5\",\n",
    "                  \"method\": \"POST\",\n",
    "                  \"headers\": {\n",
    "                    \"Content-Type\": \"application/x-www-form-urlencoded\"\n",
    "                  },\n",
    "                  \"data\": {\n",
    "                    \"seriesid\": areas,\n",
    "                    \"startyear\":\"2017\",\n",
    "                    \"endyear\":\"2020\",\n",
    "                  }\n",
    "                }\n",
    "\n",
    "response = requests.post(url, data = {\"seriesid\":areas,\"startyear\":\"2018\",\"endyear\":\"2020\"})"
   ]
  },
  {
   "cell_type": "code",
   "execution_count": 186,
   "metadata": {},
   "outputs": [],
   "source": [
    "json_data = json.loads(response.text)\n",
    "seriesId = []\n",
    "year = []\n",
    "month = []\n",
    "value = []\n",
    "\n",
    "for series in json_data['Results']['series']:\n",
    "    sid = series['seriesID']\n",
    "    for item in series['data']:\n",
    "        seriesId.append( sid )\n",
    "        year.append( item['year'] )\n",
    "        month.append ( item['periodName'] )\n",
    "        value.append( item['value'] )\n",
    "        \n",
    "df = pd.DataFrame({'seriesId':seriesId,'month':month,'year':year,'value':value})\n",
    "lfRate = blsSeries[['MSA','laborForceSeries']]"
   ]
  },
  {
   "cell_type": "code",
   "execution_count": 187,
   "metadata": {},
   "outputs": [],
   "source": [
    "df = pd.merge(df,lfRate,how='left',left_on='seriesId',right_on='laborForceSeries')\n",
    "df['Day'] = 1\n"
   ]
  },
  {
   "cell_type": "code",
   "execution_count": 188,
   "metadata": {},
   "outputs": [
    {
     "data": {
      "text/html": [
       "<div>\n",
       "<style scoped>\n",
       "    .dataframe tbody tr th:only-of-type {\n",
       "        vertical-align: middle;\n",
       "    }\n",
       "\n",
       "    .dataframe tbody tr th {\n",
       "        vertical-align: top;\n",
       "    }\n",
       "\n",
       "    .dataframe thead th {\n",
       "        text-align: right;\n",
       "    }\n",
       "</style>\n",
       "<table border=\"1\" class=\"dataframe\">\n",
       "  <thead>\n",
       "    <tr style=\"text-align: right;\">\n",
       "      <th></th>\n",
       "      <th>seriesId</th>\n",
       "      <th>month</th>\n",
       "      <th>year</th>\n",
       "      <th>value</th>\n",
       "      <th>MSA</th>\n",
       "      <th>laborForceSeries</th>\n",
       "      <th>Day</th>\n",
       "    </tr>\n",
       "  </thead>\n",
       "  <tbody>\n",
       "    <tr>\n",
       "      <th>0</th>\n",
       "      <td>LAUMT011150000000006</td>\n",
       "      <td>October</td>\n",
       "      <td>2020</td>\n",
       "      <td>44790</td>\n",
       "      <td>Anniston-Oxford-Jacksonville, AL</td>\n",
       "      <td>LAUMT011150000000006</td>\n",
       "      <td>1</td>\n",
       "    </tr>\n",
       "    <tr>\n",
       "      <th>1</th>\n",
       "      <td>LAUMT011150000000006</td>\n",
       "      <td>September</td>\n",
       "      <td>2020</td>\n",
       "      <td>45314</td>\n",
       "      <td>Anniston-Oxford-Jacksonville, AL</td>\n",
       "      <td>LAUMT011150000000006</td>\n",
       "      <td>1</td>\n",
       "    </tr>\n",
       "    <tr>\n",
       "      <th>2</th>\n",
       "      <td>LAUMT011150000000006</td>\n",
       "      <td>August</td>\n",
       "      <td>2020</td>\n",
       "      <td>44829</td>\n",
       "      <td>Anniston-Oxford-Jacksonville, AL</td>\n",
       "      <td>LAUMT011150000000006</td>\n",
       "      <td>1</td>\n",
       "    </tr>\n",
       "    <tr>\n",
       "      <th>3</th>\n",
       "      <td>LAUMT011150000000006</td>\n",
       "      <td>July</td>\n",
       "      <td>2020</td>\n",
       "      <td>44787</td>\n",
       "      <td>Anniston-Oxford-Jacksonville, AL</td>\n",
       "      <td>LAUMT011150000000006</td>\n",
       "      <td>1</td>\n",
       "    </tr>\n",
       "    <tr>\n",
       "      <th>4</th>\n",
       "      <td>LAUMT011150000000006</td>\n",
       "      <td>June</td>\n",
       "      <td>2020</td>\n",
       "      <td>44000</td>\n",
       "      <td>Anniston-Oxford-Jacksonville, AL</td>\n",
       "      <td>LAUMT011150000000006</td>\n",
       "      <td>1</td>\n",
       "    </tr>\n",
       "  </tbody>\n",
       "</table>\n",
       "</div>"
      ],
      "text/plain": [
       "               seriesId      month  year  value  \\\n",
       "0  LAUMT011150000000006    October  2020  44790   \n",
       "1  LAUMT011150000000006  September  2020  45314   \n",
       "2  LAUMT011150000000006     August  2020  44829   \n",
       "3  LAUMT011150000000006       July  2020  44787   \n",
       "4  LAUMT011150000000006       June  2020  44000   \n",
       "\n",
       "                                MSA      laborForceSeries  Day  \n",
       "0  Anniston-Oxford-Jacksonville, AL  LAUMT011150000000006    1  \n",
       "1  Anniston-Oxford-Jacksonville, AL  LAUMT011150000000006    1  \n",
       "2  Anniston-Oxford-Jacksonville, AL  LAUMT011150000000006    1  \n",
       "3  Anniston-Oxford-Jacksonville, AL  LAUMT011150000000006    1  \n",
       "4  Anniston-Oxford-Jacksonville, AL  LAUMT011150000000006    1  "
      ]
     },
     "execution_count": 188,
     "metadata": {},
     "output_type": "execute_result"
    }
   ],
   "source": [
    "df.head()"
   ]
  },
  {
   "cell_type": "code",
   "execution_count": 189,
   "metadata": {},
   "outputs": [],
   "source": [
    "df['Month'] = df.month.map(months)\n",
    "df['date'] = pd.to_datetime(df[['Month','Day','year']])\n",
    "df.sort_values(['seriesId','date'], inplace=True)\n",
    "df['Month'] = df['month'].str[:3]\n",
    "df['Date'] = df['Month'] + \" \" + df['year']\n",
    "df['value'] = df['value'].astype(float)\n",
    "\n",
    "data = df.pivot_table('value', ['Date', 'date'], 'MSA')\n",
    "data.reset_index(inplace=True)\n",
    "data.sort_values('date', inplace=True)\n",
    "del data['date']"
   ]
  },
  {
   "cell_type": "code",
   "execution_count": 191,
   "metadata": {},
   "outputs": [],
   "source": [
    "data.to_csv('deleteMeNow.csv', index=False)"
   ]
  },
  {
   "cell_type": "code",
   "execution_count": null,
   "metadata": {},
   "outputs": [],
   "source": []
  }
 ],
 "metadata": {
  "kernelspec": {
   "display_name": "Python 3",
   "language": "python",
   "name": "python3"
  },
  "language_info": {
   "codemirror_mode": {
    "name": "ipython",
    "version": 3
   },
   "file_extension": ".py",
   "mimetype": "text/x-python",
   "name": "python",
   "nbconvert_exporter": "python",
   "pygments_lexer": "ipython3",
   "version": "3.7.6"
  }
 },
 "nbformat": 4,
 "nbformat_minor": 4
}
