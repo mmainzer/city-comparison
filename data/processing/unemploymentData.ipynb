{
 "cells": [
  {
   "cell_type": "code",
   "execution_count": 22,
   "metadata": {},
   "outputs": [],
   "source": [
    "import pandas as pd\n",
    "pd.set_option('display.max_columns', None)\n",
    "\n",
    "import requests\n",
    "import json\n",
    "import prettytable\n",
    "import geopandas as gpd\n",
    "import fiona"
   ]
  },
  {
   "cell_type": "code",
   "execution_count": 23,
   "metadata": {},
   "outputs": [],
   "source": [
    "blsSeries = pd.read_excel('../msaBlsSeries.xlsx', sheet_name=\"blsSeries\")\n",
    "msa = gpd.read_file('../../../data/spatial/msa/usMsaCentroids.geojson')"
   ]
  },
  {
   "cell_type": "code",
   "execution_count": 24,
   "metadata": {},
   "outputs": [],
   "source": [
    "months = {'January':1, 'February':2, 'March':3, 'April':4, 'May':5, 'June':6, 'July':7, 'August':8,\n",
    "          'September':9,'October':10,'November':11,'December':12}"
   ]
  },
  {
   "cell_type": "code",
   "execution_count": 25,
   "metadata": {},
   "outputs": [],
   "source": [
    "uRateList = blsSeries['unemploymentRateSeries'].tolist()\n",
    "lfList = blsSeries['laborForceSeries'].tolist()"
   ]
  },
  {
   "cell_type": "code",
   "execution_count": 26,
   "metadata": {},
   "outputs": [
    {
     "name": "stdout",
     "output_type": "stream",
     "text": [
      "1 0 50\n",
      "2 50 100\n",
      "3 100 150\n",
      "4 150 200\n",
      "5 200 250\n",
      "6 250 300\n",
      "7 300 350\n",
      "8 350 400\n"
     ]
    }
   ],
   "source": [
    "url = 'https://api.bls.gov/publicAPI/v2/timeseries/data/?registrationkey=6aff0b6bece9458d9ecfb4cd10a3a375'\n",
    "\n",
    "frames = []\n",
    "items = [1,2,3,4,5,6,7,8]\n",
    "start = 0\n",
    "end = 50\n",
    "\n",
    "for item in items:\n",
    "    seriesId = []\n",
    "    year = []\n",
    "    month = []\n",
    "    value = []\n",
    "\n",
    "    print(item, start, end)\n",
    "    chunk = uRateList[start:end]\n",
    "    areas = ','.join(chunk)\n",
    "    response = requests.post(url, data = {\"seriesid\":areas,\"startyear\":\"2018\",\"endyear\":\"2020\"})\n",
    "    \n",
    "    json_data = json.loads(response.text)\n",
    "    \n",
    "    for series in json_data['Results']['series']:\n",
    "        sid = series['seriesID']\n",
    "        for item in series['data']:\n",
    "            seriesId.append( sid )\n",
    "            year.append( item['year'] )\n",
    "            month.append ( item['periodName'] )\n",
    "            value.append( item['value'] )\n",
    "        \n",
    "    df = pd.DataFrame({'seriesId':seriesId,'month':month,'year':year,'value':value})\n",
    "    \n",
    "    frames.append(df)\n",
    "    \n",
    "    start += 50\n",
    "    end += 50"
   ]
  },
  {
   "cell_type": "code",
   "execution_count": 27,
   "metadata": {},
   "outputs": [],
   "source": [
    "uRateData = pd.concat( frames )"
   ]
  },
  {
   "cell_type": "code",
   "execution_count": 28,
   "metadata": {},
   "outputs": [
    {
     "data": {
      "text/plain": [
       "381"
      ]
     },
     "execution_count": 28,
     "metadata": {},
     "output_type": "execute_result"
    }
   ],
   "source": [
    "uRateData['seriesId'].nunique()"
   ]
  },
  {
   "cell_type": "code",
   "execution_count": 29,
   "metadata": {},
   "outputs": [],
   "source": [
    "uRate = blsSeries[['MSA','unemploymentRateSeries']]\n",
    "uRateData = pd.merge(uRateData,uRate,how='left',left_on='seriesId',right_on='unemploymentRateSeries')\n",
    "uRateData['Day'] = 1\n",
    "uRateData['Month'] = uRateData.month.map(months)\n",
    "uRateData['date'] = pd.to_datetime(uRateData[['Month','Day','year']])\n",
    "uRateData.sort_values(['seriesId','date'], inplace=True)\n",
    "uRateData['Month'] = uRateData['month'].str[:3]\n",
    "uRateData['value'] = uRateData['value'].astype(float)"
   ]
  },
  {
   "cell_type": "markdown",
   "metadata": {},
   "source": [
    "# Repeat that process but with the total labor force"
   ]
  },
  {
   "cell_type": "code",
   "execution_count": 30,
   "metadata": {},
   "outputs": [
    {
     "name": "stdout",
     "output_type": "stream",
     "text": [
      "1 0 50\n",
      "2 50 100\n",
      "3 100 150\n",
      "4 150 200\n",
      "5 200 250\n",
      "6 250 300\n",
      "7 300 350\n",
      "8 350 400\n"
     ]
    }
   ],
   "source": [
    "url = 'https://api.bls.gov/publicAPI/v2/timeseries/data/?registrationkey=6aff0b6bece9458d9ecfb4cd10a3a375'\n",
    "\n",
    "frames = []\n",
    "items = [1,2,3,4,5,6,7,8]\n",
    "start = 0\n",
    "end = 50\n",
    "\n",
    "for item in items:\n",
    "    seriesId = []\n",
    "    year = []\n",
    "    month = []\n",
    "    value = []\n",
    "\n",
    "    print(item, start, end)\n",
    "    chunk = lfList[start:end]\n",
    "    areas = ','.join(chunk)\n",
    "    response = requests.post(url, data = {\"seriesid\":areas,\"startyear\":\"2018\",\"endyear\":\"2020\"})\n",
    "    \n",
    "    json_data = json.loads(response.text)\n",
    "    \n",
    "    for series in json_data['Results']['series']:\n",
    "        sid = series['seriesID']\n",
    "        for item in series['data']:\n",
    "            seriesId.append( sid )\n",
    "            year.append( item['year'] )\n",
    "            month.append ( item['periodName'] )\n",
    "            value.append( item['value'] )\n",
    "        \n",
    "    df = pd.DataFrame({'seriesId':seriesId,'month':month,'year':year,'value':value})\n",
    "    \n",
    "    frames.append(df)\n",
    "    \n",
    "    start += 50\n",
    "    end += 50"
   ]
  },
  {
   "cell_type": "code",
   "execution_count": 31,
   "metadata": {},
   "outputs": [
    {
     "data": {
      "text/plain": [
       "381"
      ]
     },
     "execution_count": 31,
     "metadata": {},
     "output_type": "execute_result"
    }
   ],
   "source": [
    "lfData = pd.concat( frames )\n",
    "lfData['seriesId'].nunique()"
   ]
  },
  {
   "cell_type": "code",
   "execution_count": 32,
   "metadata": {},
   "outputs": [],
   "source": [
    "lfSeries = blsSeries[['MSA','laborForceSeries']]\n",
    "lfData = pd.merge(lfData,lfSeries,how='left',left_on='seriesId',right_on='laborForceSeries')\n",
    "lfData['Day'] = 1\n",
    "lfData['Month'] = lfData.month.map(months)\n",
    "lfData['date'] = pd.to_datetime(lfData[['Month','Day','year']])\n",
    "lfData.sort_values(['seriesId','date'], inplace=True)\n",
    "lfData['Month'] = lfData['month'].str[:3]\n",
    "lfData['value'] = lfData['value'].astype(float)"
   ]
  },
  {
   "cell_type": "code",
   "execution_count": 33,
   "metadata": {},
   "outputs": [],
   "source": [
    "uRateCurr = uRateData.loc[(uRateData['month'] == 'December') & (uRateData['year'] == '2020')]\n",
    "uRateLast = uRateData.loc[(uRateData['month'] == 'December') & (uRateData['year'] == '2019')]\n",
    "\n",
    "uRateCurr = uRateCurr[['MSA','seriesId','value']]\n",
    "uRateCurr.rename(columns={'value':'December_2020_URate'}, inplace=True)\n",
    "\n",
    "uRateLast = uRateLast[['seriesId','value']]\n",
    "uRateLast.rename(columns={'value':'December_2019_URate'}, inplace=True)\n",
    "\n",
    "uRateSum = pd.merge(uRateCurr, uRateLast, how='left', on='seriesId')\n",
    "uRateSum['geoid'] = uRateSum['seriesId'].str[5:12]"
   ]
  },
  {
   "cell_type": "code",
   "execution_count": 34,
   "metadata": {},
   "outputs": [],
   "source": [
    "lfCurr = lfData.loc[(lfData['month'] == 'December') & (lfData['year'] == '2020')]\n",
    "lfLast = lfData.loc[(lfData['month'] == 'December') & (lfData['year'] == '2019')]\n",
    "\n",
    "lfCurr = lfCurr[['MSA','seriesId','value']]\n",
    "lfCurr.rename(columns={'value':'December_2020_LaborForce'}, inplace=True)\n",
    "\n",
    "lfLast = lfLast[['seriesId','value']]\n",
    "lfLast.rename(columns={'value':'December_2019_LaborForce'}, inplace=True)\n",
    "\n",
    "lfSum = pd.merge(lfCurr, lfLast, how='left', on='seriesId')\n",
    "lfSum['geoid'] = lfSum['seriesId'].str[5:12]"
   ]
  },
  {
   "cell_type": "code",
   "execution_count": 35,
   "metadata": {},
   "outputs": [
    {
     "data": {
      "text/html": [
       "<div>\n",
       "<style scoped>\n",
       "    .dataframe tbody tr th:only-of-type {\n",
       "        vertical-align: middle;\n",
       "    }\n",
       "\n",
       "    .dataframe tbody tr th {\n",
       "        vertical-align: top;\n",
       "    }\n",
       "\n",
       "    .dataframe thead th {\n",
       "        text-align: right;\n",
       "    }\n",
       "</style>\n",
       "<table border=\"1\" class=\"dataframe\">\n",
       "  <thead>\n",
       "    <tr style=\"text-align: right;\">\n",
       "      <th></th>\n",
       "      <th>geoid</th>\n",
       "      <th>cbsa</th>\n",
       "      <th>area</th>\n",
       "      <th>geometry</th>\n",
       "    </tr>\n",
       "  </thead>\n",
       "  <tbody>\n",
       "    <tr>\n",
       "      <th>0</th>\n",
       "      <td>1312020</td>\n",
       "      <td>12020</td>\n",
       "      <td>Athens-Clarke County, GA</td>\n",
       "      <td>POINT (-83.21379 33.94901)</td>\n",
       "    </tr>\n",
       "    <tr>\n",
       "      <th>1</th>\n",
       "      <td>1312060</td>\n",
       "      <td>12060</td>\n",
       "      <td>Atlanta-Sandy Springs-Alpharetta, GA</td>\n",
       "      <td>POINT (-84.39957 33.69277)</td>\n",
       "    </tr>\n",
       "  </tbody>\n",
       "</table>\n",
       "</div>"
      ],
      "text/plain": [
       "     geoid   cbsa                                  area  \\\n",
       "0  1312020  12020              Athens-Clarke County, GA   \n",
       "1  1312060  12060  Atlanta-Sandy Springs-Alpharetta, GA   \n",
       "\n",
       "                     geometry  \n",
       "0  POINT (-83.21379 33.94901)  \n",
       "1  POINT (-84.39957 33.69277)  "
      ]
     },
     "execution_count": 35,
     "metadata": {},
     "output_type": "execute_result"
    }
   ],
   "source": [
    "msa.head(2)"
   ]
  },
  {
   "cell_type": "code",
   "execution_count": 36,
   "metadata": {},
   "outputs": [],
   "source": [
    "lfSum['cbsa'] = lfSum['geoid'].str[-5:]\n",
    "uRateSum['cbsa'] = uRateSum['geoid'].str[-5:]"
   ]
  },
  {
   "cell_type": "code",
   "execution_count": 37,
   "metadata": {},
   "outputs": [
    {
     "data": {
      "text/html": [
       "<div>\n",
       "<style scoped>\n",
       "    .dataframe tbody tr th:only-of-type {\n",
       "        vertical-align: middle;\n",
       "    }\n",
       "\n",
       "    .dataframe tbody tr th {\n",
       "        vertical-align: top;\n",
       "    }\n",
       "\n",
       "    .dataframe thead th {\n",
       "        text-align: right;\n",
       "    }\n",
       "</style>\n",
       "<table border=\"1\" class=\"dataframe\">\n",
       "  <thead>\n",
       "    <tr style=\"text-align: right;\">\n",
       "      <th></th>\n",
       "      <th>MSA</th>\n",
       "      <th>seriesId</th>\n",
       "      <th>December_2020_LaborForce</th>\n",
       "      <th>December_2019_LaborForce</th>\n",
       "      <th>geoid</th>\n",
       "      <th>cbsa</th>\n",
       "    </tr>\n",
       "  </thead>\n",
       "  <tbody>\n",
       "    <tr>\n",
       "      <th>0</th>\n",
       "      <td>Anniston-Oxford, AL</td>\n",
       "      <td>LAUMT011150000000006</td>\n",
       "      <td>44289.0</td>\n",
       "      <td>46320.0</td>\n",
       "      <td>0111500</td>\n",
       "      <td>11500</td>\n",
       "    </tr>\n",
       "    <tr>\n",
       "      <th>1</th>\n",
       "      <td>Auburn-Opelika, AL</td>\n",
       "      <td>LAUMT011222000000006</td>\n",
       "      <td>75408.0</td>\n",
       "      <td>77615.0</td>\n",
       "      <td>0112220</td>\n",
       "      <td>12220</td>\n",
       "    </tr>\n",
       "  </tbody>\n",
       "</table>\n",
       "</div>"
      ],
      "text/plain": [
       "                   MSA              seriesId  December_2020_LaborForce  \\\n",
       "0  Anniston-Oxford, AL  LAUMT011150000000006                   44289.0   \n",
       "1   Auburn-Opelika, AL  LAUMT011222000000006                   75408.0   \n",
       "\n",
       "   December_2019_LaborForce    geoid   cbsa  \n",
       "0                   46320.0  0111500  11500  \n",
       "1                   77615.0  0112220  12220  "
      ]
     },
     "execution_count": 37,
     "metadata": {},
     "output_type": "execute_result"
    }
   ],
   "source": [
    "lfSum.head(2)"
   ]
  },
  {
   "cell_type": "code",
   "execution_count": 38,
   "metadata": {},
   "outputs": [
    {
     "data": {
      "text/html": [
       "<div>\n",
       "<style scoped>\n",
       "    .dataframe tbody tr th:only-of-type {\n",
       "        vertical-align: middle;\n",
       "    }\n",
       "\n",
       "    .dataframe tbody tr th {\n",
       "        vertical-align: top;\n",
       "    }\n",
       "\n",
       "    .dataframe thead th {\n",
       "        text-align: right;\n",
       "    }\n",
       "</style>\n",
       "<table border=\"1\" class=\"dataframe\">\n",
       "  <thead>\n",
       "    <tr style=\"text-align: right;\">\n",
       "      <th></th>\n",
       "      <th>MSA</th>\n",
       "      <th>seriesId</th>\n",
       "      <th>December_2020_URate</th>\n",
       "      <th>December_2019_URate</th>\n",
       "      <th>geoid</th>\n",
       "      <th>cbsa</th>\n",
       "    </tr>\n",
       "  </thead>\n",
       "  <tbody>\n",
       "    <tr>\n",
       "      <th>0</th>\n",
       "      <td>Anniston-Oxford, AL</td>\n",
       "      <td>LAUMT011150000000003</td>\n",
       "      <td>4.4</td>\n",
       "      <td>3.0</td>\n",
       "      <td>0111500</td>\n",
       "      <td>11500</td>\n",
       "    </tr>\n",
       "    <tr>\n",
       "      <th>1</th>\n",
       "      <td>Auburn-Opelika, AL</td>\n",
       "      <td>LAUMT011222000000003</td>\n",
       "      <td>3.0</td>\n",
       "      <td>2.2</td>\n",
       "      <td>0112220</td>\n",
       "      <td>12220</td>\n",
       "    </tr>\n",
       "  </tbody>\n",
       "</table>\n",
       "</div>"
      ],
      "text/plain": [
       "                   MSA              seriesId  December_2020_URate  \\\n",
       "0  Anniston-Oxford, AL  LAUMT011150000000003                  4.4   \n",
       "1   Auburn-Opelika, AL  LAUMT011222000000003                  3.0   \n",
       "\n",
       "   December_2019_URate    geoid   cbsa  \n",
       "0                  3.0  0111500  11500  \n",
       "1                  2.2  0112220  12220  "
      ]
     },
     "execution_count": 38,
     "metadata": {},
     "output_type": "execute_result"
    }
   ],
   "source": [
    "uRateSum.head(2)"
   ]
  },
  {
   "cell_type": "code",
   "execution_count": 39,
   "metadata": {},
   "outputs": [
    {
     "data": {
      "text/plain": [
       "(381, 6)"
      ]
     },
     "execution_count": 39,
     "metadata": {},
     "output_type": "execute_result"
    }
   ],
   "source": [
    "lfSum.shape"
   ]
  },
  {
   "cell_type": "code",
   "execution_count": 40,
   "metadata": {},
   "outputs": [
    {
     "data": {
      "text/plain": [
       "(381, 6)"
      ]
     },
     "execution_count": 40,
     "metadata": {},
     "output_type": "execute_result"
    }
   ],
   "source": [
    "uRateSum.shape"
   ]
  },
  {
   "cell_type": "code",
   "execution_count": 41,
   "metadata": {},
   "outputs": [],
   "source": [
    "sumStats = pd.merge(lfSum,uRateSum, how='left', on='cbsa')"
   ]
  },
  {
   "cell_type": "code",
   "execution_count": 42,
   "metadata": {},
   "outputs": [
    {
     "data": {
      "text/html": [
       "<div>\n",
       "<style scoped>\n",
       "    .dataframe tbody tr th:only-of-type {\n",
       "        vertical-align: middle;\n",
       "    }\n",
       "\n",
       "    .dataframe tbody tr th {\n",
       "        vertical-align: top;\n",
       "    }\n",
       "\n",
       "    .dataframe thead th {\n",
       "        text-align: right;\n",
       "    }\n",
       "</style>\n",
       "<table border=\"1\" class=\"dataframe\">\n",
       "  <thead>\n",
       "    <tr style=\"text-align: right;\">\n",
       "      <th></th>\n",
       "      <th>MSA_x</th>\n",
       "      <th>seriesId_x</th>\n",
       "      <th>December_2020_LaborForce</th>\n",
       "      <th>December_2019_LaborForce</th>\n",
       "      <th>geoid_x</th>\n",
       "      <th>cbsa</th>\n",
       "      <th>MSA_y</th>\n",
       "      <th>seriesId_y</th>\n",
       "      <th>December_2020_URate</th>\n",
       "      <th>December_2019_URate</th>\n",
       "      <th>geoid_y</th>\n",
       "    </tr>\n",
       "  </thead>\n",
       "  <tbody>\n",
       "    <tr>\n",
       "      <th>0</th>\n",
       "      <td>Anniston-Oxford, AL</td>\n",
       "      <td>LAUMT011150000000006</td>\n",
       "      <td>44289.0</td>\n",
       "      <td>46320.0</td>\n",
       "      <td>0111500</td>\n",
       "      <td>11500</td>\n",
       "      <td>Anniston-Oxford, AL</td>\n",
       "      <td>LAUMT011150000000003</td>\n",
       "      <td>4.4</td>\n",
       "      <td>3.0</td>\n",
       "      <td>0111500</td>\n",
       "    </tr>\n",
       "    <tr>\n",
       "      <th>1</th>\n",
       "      <td>Auburn-Opelika, AL</td>\n",
       "      <td>LAUMT011222000000006</td>\n",
       "      <td>75408.0</td>\n",
       "      <td>77615.0</td>\n",
       "      <td>0112220</td>\n",
       "      <td>12220</td>\n",
       "      <td>Auburn-Opelika, AL</td>\n",
       "      <td>LAUMT011222000000003</td>\n",
       "      <td>3.0</td>\n",
       "      <td>2.2</td>\n",
       "      <td>0112220</td>\n",
       "    </tr>\n",
       "    <tr>\n",
       "      <th>2</th>\n",
       "      <td>Birmingham-Hoover, AL</td>\n",
       "      <td>LAUMT011382000000006</td>\n",
       "      <td>543586.0</td>\n",
       "      <td>559808.0</td>\n",
       "      <td>0113820</td>\n",
       "      <td>13820</td>\n",
       "      <td>Birmingham-Hoover, AL</td>\n",
       "      <td>LAUMT011382000000003</td>\n",
       "      <td>3.5</td>\n",
       "      <td>2.2</td>\n",
       "      <td>0113820</td>\n",
       "    </tr>\n",
       "    <tr>\n",
       "      <th>3</th>\n",
       "      <td>Daphne-Fairhope-Foley, AL</td>\n",
       "      <td>LAUMT011930000000006</td>\n",
       "      <td>91638.0</td>\n",
       "      <td>95993.0</td>\n",
       "      <td>0119300</td>\n",
       "      <td>19300</td>\n",
       "      <td>Daphne-Fairhope-Foley, AL</td>\n",
       "      <td>LAUMT011930000000003</td>\n",
       "      <td>3.4</td>\n",
       "      <td>2.4</td>\n",
       "      <td>0119300</td>\n",
       "    </tr>\n",
       "    <tr>\n",
       "      <th>4</th>\n",
       "      <td>Decatur, AL</td>\n",
       "      <td>LAUMT011946000000006</td>\n",
       "      <td>70864.0</td>\n",
       "      <td>72844.0</td>\n",
       "      <td>0119460</td>\n",
       "      <td>19460</td>\n",
       "      <td>Decatur, AL</td>\n",
       "      <td>LAUMT011946000000003</td>\n",
       "      <td>2.9</td>\n",
       "      <td>2.3</td>\n",
       "      <td>0119460</td>\n",
       "    </tr>\n",
       "  </tbody>\n",
       "</table>\n",
       "</div>"
      ],
      "text/plain": [
       "                       MSA_x            seriesId_x  December_2020_LaborForce  \\\n",
       "0        Anniston-Oxford, AL  LAUMT011150000000006                   44289.0   \n",
       "1         Auburn-Opelika, AL  LAUMT011222000000006                   75408.0   \n",
       "2      Birmingham-Hoover, AL  LAUMT011382000000006                  543586.0   \n",
       "3  Daphne-Fairhope-Foley, AL  LAUMT011930000000006                   91638.0   \n",
       "4                Decatur, AL  LAUMT011946000000006                   70864.0   \n",
       "\n",
       "   December_2019_LaborForce  geoid_x   cbsa                      MSA_y  \\\n",
       "0                   46320.0  0111500  11500        Anniston-Oxford, AL   \n",
       "1                   77615.0  0112220  12220         Auburn-Opelika, AL   \n",
       "2                  559808.0  0113820  13820      Birmingham-Hoover, AL   \n",
       "3                   95993.0  0119300  19300  Daphne-Fairhope-Foley, AL   \n",
       "4                   72844.0  0119460  19460                Decatur, AL   \n",
       "\n",
       "             seriesId_y  December_2020_URate  December_2019_URate  geoid_y  \n",
       "0  LAUMT011150000000003                  4.4                  3.0  0111500  \n",
       "1  LAUMT011222000000003                  3.0                  2.2  0112220  \n",
       "2  LAUMT011382000000003                  3.5                  2.2  0113820  \n",
       "3  LAUMT011930000000003                  3.4                  2.4  0119300  \n",
       "4  LAUMT011946000000003                  2.9                  2.3  0119460  "
      ]
     },
     "execution_count": 42,
     "metadata": {},
     "output_type": "execute_result"
    }
   ],
   "source": [
    "sumStats.head()"
   ]
  },
  {
   "cell_type": "code",
   "execution_count": 43,
   "metadata": {},
   "outputs": [],
   "source": [
    "sumStats = sumStats[['cbsa','geoid_x','MSA_x','December_2020_LaborForce','December_2020_URate']]"
   ]
  },
  {
   "cell_type": "code",
   "execution_count": 44,
   "metadata": {},
   "outputs": [
    {
     "data": {
      "text/html": [
       "<div>\n",
       "<style scoped>\n",
       "    .dataframe tbody tr th:only-of-type {\n",
       "        vertical-align: middle;\n",
       "    }\n",
       "\n",
       "    .dataframe tbody tr th {\n",
       "        vertical-align: top;\n",
       "    }\n",
       "\n",
       "    .dataframe thead th {\n",
       "        text-align: right;\n",
       "    }\n",
       "</style>\n",
       "<table border=\"1\" class=\"dataframe\">\n",
       "  <thead>\n",
       "    <tr style=\"text-align: right;\">\n",
       "      <th></th>\n",
       "      <th>cbsa</th>\n",
       "      <th>geoid_x</th>\n",
       "      <th>MSA_x</th>\n",
       "      <th>December_2020_LaborForce</th>\n",
       "      <th>December_2020_URate</th>\n",
       "    </tr>\n",
       "  </thead>\n",
       "  <tbody>\n",
       "    <tr>\n",
       "      <th>0</th>\n",
       "      <td>11500</td>\n",
       "      <td>0111500</td>\n",
       "      <td>Anniston-Oxford, AL</td>\n",
       "      <td>44289.0</td>\n",
       "      <td>4.4</td>\n",
       "    </tr>\n",
       "    <tr>\n",
       "      <th>1</th>\n",
       "      <td>12220</td>\n",
       "      <td>0112220</td>\n",
       "      <td>Auburn-Opelika, AL</td>\n",
       "      <td>75408.0</td>\n",
       "      <td>3.0</td>\n",
       "    </tr>\n",
       "  </tbody>\n",
       "</table>\n",
       "</div>"
      ],
      "text/plain": [
       "    cbsa  geoid_x                MSA_x  December_2020_LaborForce  \\\n",
       "0  11500  0111500  Anniston-Oxford, AL                   44289.0   \n",
       "1  12220  0112220   Auburn-Opelika, AL                   75408.0   \n",
       "\n",
       "   December_2020_URate  \n",
       "0                  4.4  \n",
       "1                  3.0  "
      ]
     },
     "execution_count": 44,
     "metadata": {},
     "output_type": "execute_result"
    }
   ],
   "source": [
    "sumStats.head(2)"
   ]
  },
  {
   "cell_type": "code",
   "execution_count": 45,
   "metadata": {},
   "outputs": [],
   "source": [
    "msaSum = pd.merge(sumStats,msa,how='left',on='cbsa')"
   ]
  },
  {
   "cell_type": "code",
   "execution_count": 47,
   "metadata": {},
   "outputs": [
    {
     "name": "stderr",
     "output_type": "stream",
     "text": [
      "/Users/mmainza/opt/anaconda3/lib/python3.7/site-packages/pandas/core/frame.py:4133: SettingWithCopyWarning: \n",
      "A value is trying to be set on a copy of a slice from a DataFrame\n",
      "\n",
      "See the caveats in the documentation: https://pandas.pydata.org/pandas-docs/stable/user_guide/indexing.html#returning-a-view-versus-a-copy\n",
      "  errors=errors,\n"
     ]
    }
   ],
   "source": [
    "msaSum['state'] = msaSum['MSA_x'].str[-2:]\n",
    "msaSum = msaSum[['cbsa','geoid','MSA_x','state','December_2020_LaborForce','December_2020_URate','geometry']]\n",
    "msaSum.rename(columns={'MSA_x':'msa'}, inplace=True)\n"
   ]
  },
  {
   "cell_type": "code",
   "execution_count": 48,
   "metadata": {},
   "outputs": [
    {
     "name": "stderr",
     "output_type": "stream",
     "text": [
      "/Users/mmainza/opt/anaconda3/lib/python3.7/site-packages/pyproj/crs/crs.py:53: FutureWarning: '+init=<authority>:<code>' syntax is deprecated. '<authority>:<code>' is the preferred initialization method. When making the change, be mindful of axis order changes: https://pyproj4.github.io/pyproj/stable/gotchas.html#axis-order-changes-in-proj-6\n",
      "  return _prepare_from_string(\" \".join(pjargs))\n"
     ]
    }
   ],
   "source": [
    "crs = {'init': 'epsg:4326'}\n",
    "msaSum = gpd.GeoDataFrame(msaSum, crs=crs, geometry=msaSum['geometry'])"
   ]
  },
  {
   "cell_type": "code",
   "execution_count": 49,
   "metadata": {},
   "outputs": [
    {
     "data": {
      "text/html": [
       "<div>\n",
       "<style scoped>\n",
       "    .dataframe tbody tr th:only-of-type {\n",
       "        vertical-align: middle;\n",
       "    }\n",
       "\n",
       "    .dataframe tbody tr th {\n",
       "        vertical-align: top;\n",
       "    }\n",
       "\n",
       "    .dataframe thead th {\n",
       "        text-align: right;\n",
       "    }\n",
       "</style>\n",
       "<table border=\"1\" class=\"dataframe\">\n",
       "  <thead>\n",
       "    <tr style=\"text-align: right;\">\n",
       "      <th></th>\n",
       "      <th>cbsa</th>\n",
       "      <th>geoid</th>\n",
       "      <th>msa</th>\n",
       "      <th>state</th>\n",
       "      <th>December_2020_LaborForce</th>\n",
       "      <th>December_2020_URate</th>\n",
       "      <th>geometry</th>\n",
       "    </tr>\n",
       "  </thead>\n",
       "  <tbody>\n",
       "    <tr>\n",
       "      <th>0</th>\n",
       "      <td>11500</td>\n",
       "      <td>0111500</td>\n",
       "      <td>Anniston-Oxford, AL</td>\n",
       "      <td>AL</td>\n",
       "      <td>44289.0</td>\n",
       "      <td>4.4</td>\n",
       "      <td>POINT (-85.82603 33.77143)</td>\n",
       "    </tr>\n",
       "    <tr>\n",
       "      <th>1</th>\n",
       "      <td>12220</td>\n",
       "      <td>0112220</td>\n",
       "      <td>Auburn-Opelika, AL</td>\n",
       "      <td>AL</td>\n",
       "      <td>75408.0</td>\n",
       "      <td>3.0</td>\n",
       "      <td>POINT (-85.35556 32.60114)</td>\n",
       "    </tr>\n",
       "    <tr>\n",
       "      <th>2</th>\n",
       "      <td>13820</td>\n",
       "      <td>0113820</td>\n",
       "      <td>Birmingham-Hoover, AL</td>\n",
       "      <td>AL</td>\n",
       "      <td>543586.0</td>\n",
       "      <td>3.5</td>\n",
       "      <td>POINT (-86.72819 33.40368)</td>\n",
       "    </tr>\n",
       "    <tr>\n",
       "      <th>3</th>\n",
       "      <td>19300</td>\n",
       "      <td>0119300</td>\n",
       "      <td>Daphne-Fairhope-Foley, AL</td>\n",
       "      <td>AL</td>\n",
       "      <td>91638.0</td>\n",
       "      <td>3.4</td>\n",
       "      <td>POINT (-87.74984 30.66097)</td>\n",
       "    </tr>\n",
       "    <tr>\n",
       "      <th>4</th>\n",
       "      <td>19460</td>\n",
       "      <td>0119460</td>\n",
       "      <td>Decatur, AL</td>\n",
       "      <td>AL</td>\n",
       "      <td>70864.0</td>\n",
       "      <td>2.9</td>\n",
       "      <td>POINT (-87.10264 34.49064)</td>\n",
       "    </tr>\n",
       "  </tbody>\n",
       "</table>\n",
       "</div>"
      ],
      "text/plain": [
       "    cbsa    geoid                        msa state  December_2020_LaborForce  \\\n",
       "0  11500  0111500        Anniston-Oxford, AL    AL                   44289.0   \n",
       "1  12220  0112220         Auburn-Opelika, AL    AL                   75408.0   \n",
       "2  13820  0113820      Birmingham-Hoover, AL    AL                  543586.0   \n",
       "3  19300  0119300  Daphne-Fairhope-Foley, AL    AL                   91638.0   \n",
       "4  19460  0119460                Decatur, AL    AL                   70864.0   \n",
       "\n",
       "   December_2020_URate                    geometry  \n",
       "0                  4.4  POINT (-85.82603 33.77143)  \n",
       "1                  3.0  POINT (-85.35556 32.60114)  \n",
       "2                  3.5  POINT (-86.72819 33.40368)  \n",
       "3                  3.4  POINT (-87.74984 30.66097)  \n",
       "4                  2.9  POINT (-87.10264 34.49064)  "
      ]
     },
     "execution_count": 49,
     "metadata": {},
     "output_type": "execute_result"
    }
   ],
   "source": [
    "msaSum.head()"
   ]
  },
  {
   "cell_type": "code",
   "execution_count": 50,
   "metadata": {},
   "outputs": [],
   "source": [
    "nulls = msaSum[msaSum['December_2020_LaborForce'].isnull()]"
   ]
  },
  {
   "cell_type": "code",
   "execution_count": 51,
   "metadata": {},
   "outputs": [
    {
     "data": {
      "text/html": [
       "<div>\n",
       "<style scoped>\n",
       "    .dataframe tbody tr th:only-of-type {\n",
       "        vertical-align: middle;\n",
       "    }\n",
       "\n",
       "    .dataframe tbody tr th {\n",
       "        vertical-align: top;\n",
       "    }\n",
       "\n",
       "    .dataframe thead th {\n",
       "        text-align: right;\n",
       "    }\n",
       "</style>\n",
       "<table border=\"1\" class=\"dataframe\">\n",
       "  <thead>\n",
       "    <tr style=\"text-align: right;\">\n",
       "      <th></th>\n",
       "      <th>cbsa</th>\n",
       "      <th>geoid</th>\n",
       "      <th>msa</th>\n",
       "      <th>state</th>\n",
       "      <th>December_2020_LaborForce</th>\n",
       "      <th>December_2020_URate</th>\n",
       "      <th>geometry</th>\n",
       "    </tr>\n",
       "  </thead>\n",
       "  <tbody>\n",
       "  </tbody>\n",
       "</table>\n",
       "</div>"
      ],
      "text/plain": [
       "Empty GeoDataFrame\n",
       "Columns: [cbsa, geoid, msa, state, December_2020_LaborForce, December_2020_URate, geometry]\n",
       "Index: []"
      ]
     },
     "execution_count": 51,
     "metadata": {},
     "output_type": "execute_result"
    }
   ],
   "source": [
    "nulls.head()"
   ]
  },
  {
   "cell_type": "code",
   "execution_count": 53,
   "metadata": {},
   "outputs": [],
   "source": [
    "msaSum.to_file('../../../data/spatial/msa/usMsaData.geojson', driver=\"GeoJSON\")"
   ]
  },
  {
   "cell_type": "code",
   "execution_count": null,
   "metadata": {},
   "outputs": [],
   "source": [
    "# summarize to get latest and previous year"
   ]
  },
  {
   "cell_type": "code",
   "execution_count": 54,
   "metadata": {},
   "outputs": [],
   "source": [
    "# write files\n",
    "\n",
    "msaList = pd.read_excel('../msaBlsSeries.xlsx', sheet_name=\"msaList\")\n",
    "series = pd.read_excel('../msaBlsSeries.xlsx', sheet_name=\"blsSeries\")"
   ]
  },
  {
   "cell_type": "code",
   "execution_count": 55,
   "metadata": {},
   "outputs": [],
   "source": [
    "msaList= pd.merge(msaList, series, how='left', on='MSA')"
   ]
  },
  {
   "cell_type": "code",
   "execution_count": 56,
   "metadata": {},
   "outputs": [],
   "source": [
    "msaList.to_excel('deteleMsaList.xlsx', index=False)"
   ]
  },
  {
   "cell_type": "code",
   "execution_count": 57,
   "metadata": {},
   "outputs": [
    {
     "data": {
      "text/plain": [
       "'/Users/mmainza/Desktop/projects/city-comparison/data/processing'"
      ]
     },
     "execution_count": 57,
     "metadata": {},
     "output_type": "execute_result"
    }
   ],
   "source": [
    "pwd"
   ]
  },
  {
   "cell_type": "code",
   "execution_count": null,
   "metadata": {},
   "outputs": [],
   "source": []
  },
  {
   "cell_type": "code",
   "execution_count": null,
   "metadata": {},
   "outputs": [],
   "source": []
  },
  {
   "cell_type": "code",
   "execution_count": 58,
   "metadata": {},
   "outputs": [],
   "source": [
    "msa = gpd.read_file('../../../data/spatial/msa/usMsaData.geojson')"
   ]
  },
  {
   "cell_type": "code",
   "execution_count": 59,
   "metadata": {},
   "outputs": [],
   "source": [
    "data= pd.read_excel('../data.xlsx', sheet_name=\"msaData\")"
   ]
  },
  {
   "cell_type": "code",
   "execution_count": 60,
   "metadata": {},
   "outputs": [],
   "source": [
    "df = pd.merge(msa,data,how='left',left_on='msa',right_on='MSA')"
   ]
  },
  {
   "cell_type": "code",
   "execution_count": 61,
   "metadata": {},
   "outputs": [],
   "source": [
    "df.sort_values('msa',inplace=True)"
   ]
  },
  {
   "cell_type": "code",
   "execution_count": 63,
   "metadata": {},
   "outputs": [],
   "source": [
    "df = df[['cbsa','geoid','msa','STATE','December_2020_LaborForce','December_2020_URate',\n",
    "         'Avg. Local Sales Tax','State Sales Tax','Total Sales Tax','Property Tax per Capita',\n",
    "         'Property Tax Rank','Property Tax Throw Back','Taxable Wages Rate','New Employers Rate',\n",
    "         'Taxable Wage Base','Payroll Tax Notes','Individual Tax Rate','Individual Tax Brackets',\n",
    "         'Graduated Individual Tax','Franchise Tax Rate','Corporate Tax Rate','Corporate Tax Brackets',\n",
    "         'Graduated Corporate Tax','CODB','Fortune 500','Fortune 1000','AIRPORT','CODE','NUMBER_AIRPORTS',\n",
    "         'NS_DOMESTIC','NS_INTERNATIONAL','NS_TOTAL','geometry']]"
   ]
  },
  {
   "cell_type": "code",
   "execution_count": 64,
   "metadata": {},
   "outputs": [
    {
     "name": "stderr",
     "output_type": "stream",
     "text": [
      "/Users/mmainza/opt/anaconda3/lib/python3.7/site-packages/pandas/core/generic.py:6245: SettingWithCopyWarning: \n",
      "A value is trying to be set on a copy of a slice from a DataFrame\n",
      "\n",
      "See the caveats in the documentation: https://pandas.pydata.org/pandas-docs/stable/user_guide/indexing.html#returning-a-view-versus-a-copy\n",
      "  self._update_inplace(new_data)\n"
     ]
    }
   ],
   "source": [
    "df['AIRPORT'].fillna('None', inplace=True)\n",
    "df['CODE'].fillna('None', inplace=True)"
   ]
  },
  {
   "cell_type": "code",
   "execution_count": 65,
   "metadata": {},
   "outputs": [
    {
     "name": "stderr",
     "output_type": "stream",
     "text": [
      "/Users/mmainza/opt/anaconda3/lib/python3.7/site-packages/pyproj/crs/crs.py:53: FutureWarning: '+init=<authority>:<code>' syntax is deprecated. '<authority>:<code>' is the preferred initialization method. When making the change, be mindful of axis order changes: https://pyproj4.github.io/pyproj/stable/gotchas.html#axis-order-changes-in-proj-6\n",
      "  return _prepare_from_string(\" \".join(pjargs))\n"
     ]
    }
   ],
   "source": [
    "crs = {'init': 'epsg:4326'}\n",
    "msaSum = gpd.GeoDataFrame(df, crs=crs, geometry=df['geometry'])"
   ]
  },
  {
   "cell_type": "code",
   "execution_count": 66,
   "metadata": {},
   "outputs": [],
   "source": [
    "msaGeo = gpd.read_file('../../../data/spatial/msa/usMsaAlbersMasterNODELETE.json')"
   ]
  },
  {
   "cell_type": "code",
   "execution_count": 67,
   "metadata": {},
   "outputs": [],
   "source": [
    "msaGeo = msaGeo[['msa','geometry']]"
   ]
  },
  {
   "cell_type": "code",
   "execution_count": 68,
   "metadata": {},
   "outputs": [],
   "source": [
    "msaSum = pd.merge(msaSum,msaGeo,how='left',on='msa')"
   ]
  },
  {
   "cell_type": "code",
   "execution_count": 73,
   "metadata": {},
   "outputs": [],
   "source": [
    "del msaSum['geometry_x']\n",
    "msaSum.rename(columns={'geometry_y':'geometry'}, inplace=True)"
   ]
  },
  {
   "cell_type": "code",
   "execution_count": 74,
   "metadata": {},
   "outputs": [
    {
     "name": "stderr",
     "output_type": "stream",
     "text": [
      "/Users/mmainza/opt/anaconda3/lib/python3.7/site-packages/pyproj/crs/crs.py:53: FutureWarning: '+init=<authority>:<code>' syntax is deprecated. '<authority>:<code>' is the preferred initialization method. When making the change, be mindful of axis order changes: https://pyproj4.github.io/pyproj/stable/gotchas.html#axis-order-changes-in-proj-6\n",
      "  return _prepare_from_string(\" \".join(pjargs))\n"
     ]
    }
   ],
   "source": [
    "crs = {'init': 'epsg:4326'}\n",
    "msaSum = gpd.GeoDataFrame(msaSum, crs=crs, geometry=msaSum['geometry'])"
   ]
  },
  {
   "cell_type": "code",
   "execution_count": 75,
   "metadata": {},
   "outputs": [
    {
     "data": {
      "text/html": [
       "<div>\n",
       "<style scoped>\n",
       "    .dataframe tbody tr th:only-of-type {\n",
       "        vertical-align: middle;\n",
       "    }\n",
       "\n",
       "    .dataframe tbody tr th {\n",
       "        vertical-align: top;\n",
       "    }\n",
       "\n",
       "    .dataframe thead th {\n",
       "        text-align: right;\n",
       "    }\n",
       "</style>\n",
       "<table border=\"1\" class=\"dataframe\">\n",
       "  <thead>\n",
       "    <tr style=\"text-align: right;\">\n",
       "      <th></th>\n",
       "      <th>cbsa</th>\n",
       "      <th>geoid</th>\n",
       "      <th>msa</th>\n",
       "      <th>STATE</th>\n",
       "      <th>December_2020_LaborForce</th>\n",
       "      <th>December_2020_URate</th>\n",
       "      <th>Avg. Local Sales Tax</th>\n",
       "      <th>State Sales Tax</th>\n",
       "      <th>Total Sales Tax</th>\n",
       "      <th>Property Tax per Capita</th>\n",
       "      <th>Property Tax Rank</th>\n",
       "      <th>Property Tax Throw Back</th>\n",
       "      <th>Taxable Wages Rate</th>\n",
       "      <th>New Employers Rate</th>\n",
       "      <th>Taxable Wage Base</th>\n",
       "      <th>Payroll Tax Notes</th>\n",
       "      <th>Individual Tax Rate</th>\n",
       "      <th>Individual Tax Brackets</th>\n",
       "      <th>Graduated Individual Tax</th>\n",
       "      <th>Franchise Tax Rate</th>\n",
       "      <th>Corporate Tax Rate</th>\n",
       "      <th>Corporate Tax Brackets</th>\n",
       "      <th>Graduated Corporate Tax</th>\n",
       "      <th>CODB</th>\n",
       "      <th>Fortune 500</th>\n",
       "      <th>Fortune 1000</th>\n",
       "      <th>AIRPORT</th>\n",
       "      <th>CODE</th>\n",
       "      <th>NUMBER_AIRPORTS</th>\n",
       "      <th>NS_DOMESTIC</th>\n",
       "      <th>NS_INTERNATIONAL</th>\n",
       "      <th>NS_TOTAL</th>\n",
       "      <th>geometry</th>\n",
       "    </tr>\n",
       "  </thead>\n",
       "  <tbody>\n",
       "    <tr>\n",
       "      <th>0</th>\n",
       "      <td>10180</td>\n",
       "      <td>4810180</td>\n",
       "      <td>Abilene, TX</td>\n",
       "      <td>TX</td>\n",
       "      <td>79019.0</td>\n",
       "      <td>5.4</td>\n",
       "      <td>1.94</td>\n",
       "      <td>6.25</td>\n",
       "      <td>8.19</td>\n",
       "      <td>1872.0</td>\n",
       "      <td>13.0</td>\n",
       "      <td>NaN</td>\n",
       "      <td>0.31 - 6.31%</td>\n",
       "      <td>0.027</td>\n",
       "      <td>9000</td>\n",
       "      <td>NaN</td>\n",
       "      <td>0.00</td>\n",
       "      <td>1</td>\n",
       "      <td>No</td>\n",
       "      <td>Revised franchise tax, otherwise known as marg...</td>\n",
       "      <td>0.00</td>\n",
       "      <td>1</td>\n",
       "      <td>No</td>\n",
       "      <td>90</td>\n",
       "      <td>0</td>\n",
       "      <td>0</td>\n",
       "      <td>None</td>\n",
       "      <td>None</td>\n",
       "      <td>0</td>\n",
       "      <td>0</td>\n",
       "      <td>0</td>\n",
       "      <td>0</td>\n",
       "      <td>POINT (-2.65545 -6.23183)</td>\n",
       "    </tr>\n",
       "    <tr>\n",
       "      <th>1</th>\n",
       "      <td>10420</td>\n",
       "      <td>3910420</td>\n",
       "      <td>Akron, OH</td>\n",
       "      <td>OH</td>\n",
       "      <td>347736.0</td>\n",
       "      <td>5.3</td>\n",
       "      <td>1.42</td>\n",
       "      <td>5.75</td>\n",
       "      <td>7.17</td>\n",
       "      <td>1316.0</td>\n",
       "      <td>30.0</td>\n",
       "      <td>NaN</td>\n",
       "      <td>0.30 - 9.40%</td>\n",
       "      <td>0.027</td>\n",
       "      <td>9000</td>\n",
       "      <td>NaN</td>\n",
       "      <td>4.80</td>\n",
       "      <td>5</td>\n",
       "      <td>Yes</td>\n",
       "      <td>No entity-level tax measured by net worth/capi...</td>\n",
       "      <td>0.00</td>\n",
       "      <td>1</td>\n",
       "      <td>No</td>\n",
       "      <td>98</td>\n",
       "      <td>2</td>\n",
       "      <td>3</td>\n",
       "      <td>None</td>\n",
       "      <td>None</td>\n",
       "      <td>0</td>\n",
       "      <td>0</td>\n",
       "      <td>0</td>\n",
       "      <td>0</td>\n",
       "      <td>POINT (11.36298 3.30945)</td>\n",
       "    </tr>\n",
       "    <tr>\n",
       "      <th>2</th>\n",
       "      <td>10500</td>\n",
       "      <td>1310500</td>\n",
       "      <td>Albany, GA</td>\n",
       "      <td>GA</td>\n",
       "      <td>65911.0</td>\n",
       "      <td>7.0</td>\n",
       "      <td>3.31</td>\n",
       "      <td>4.00</td>\n",
       "      <td>7.31</td>\n",
       "      <td>1161.0</td>\n",
       "      <td>33.0</td>\n",
       "      <td>No</td>\n",
       "      <td>0.04 - 7.56%</td>\n",
       "      <td>0.027</td>\n",
       "      <td>9500</td>\n",
       "      <td>Includes 0.06% administrative assessment excep...</td>\n",
       "      <td>5.75</td>\n",
       "      <td>6</td>\n",
       "      <td>Yes</td>\n",
       "      <td>Graduated tax from minimum of $125 to maximum ...</td>\n",
       "      <td>5.75</td>\n",
       "      <td>1</td>\n",
       "      <td>No</td>\n",
       "      <td>97</td>\n",
       "      <td>0</td>\n",
       "      <td>0</td>\n",
       "      <td>None</td>\n",
       "      <td>None</td>\n",
       "      <td>0</td>\n",
       "      <td>0</td>\n",
       "      <td>0</td>\n",
       "      <td>0</td>\n",
       "      <td>POINT (10.51241 -6.46944)</td>\n",
       "    </tr>\n",
       "    <tr>\n",
       "      <th>3</th>\n",
       "      <td>10540</td>\n",
       "      <td>4110540</td>\n",
       "      <td>Albany-Lebanon, OR</td>\n",
       "      <td>OR</td>\n",
       "      <td>60096.0</td>\n",
       "      <td>6.0</td>\n",
       "      <td>0.00</td>\n",
       "      <td>0.00</td>\n",
       "      <td>0.00</td>\n",
       "      <td>1487.0</td>\n",
       "      <td>27.0</td>\n",
       "      <td>Yes</td>\n",
       "      <td>0.70 - 5.40%</td>\n",
       "      <td>0.021</td>\n",
       "      <td>42100</td>\n",
       "      <td>Includes special payroll tax offset: 0.09%</td>\n",
       "      <td>9.90</td>\n",
       "      <td>4</td>\n",
       "      <td>Yes</td>\n",
       "      <td>No entity-level tax measured by net worth/capi...</td>\n",
       "      <td>7.60</td>\n",
       "      <td>2</td>\n",
       "      <td>Yes</td>\n",
       "      <td>101</td>\n",
       "      <td>0</td>\n",
       "      <td>0</td>\n",
       "      <td>None</td>\n",
       "      <td>None</td>\n",
       "      <td>0</td>\n",
       "      <td>0</td>\n",
       "      <td>0</td>\n",
       "      <td>0</td>\n",
       "      <td>POINT (-18.17322 8.41703)</td>\n",
       "    </tr>\n",
       "    <tr>\n",
       "      <th>4</th>\n",
       "      <td>10580</td>\n",
       "      <td>3610580</td>\n",
       "      <td>Albany-Schenectady-Troy, NY</td>\n",
       "      <td>NY</td>\n",
       "      <td>429996.0</td>\n",
       "      <td>5.3</td>\n",
       "      <td>4.52</td>\n",
       "      <td>4.00</td>\n",
       "      <td>8.52</td>\n",
       "      <td>2902.0</td>\n",
       "      <td>4.0</td>\n",
       "      <td>No</td>\n",
       "      <td>0.60 - 7.90%</td>\n",
       "      <td>0.032</td>\n",
       "      <td>11600</td>\n",
       "      <td>*2019, Includes 0.075% Re-employment Service F...</td>\n",
       "      <td>8.82</td>\n",
       "      <td>8</td>\n",
       "      <td>Yes</td>\n",
       "      <td>Capital value tax is part of overall franchise...</td>\n",
       "      <td>6.50</td>\n",
       "      <td>1</td>\n",
       "      <td>No</td>\n",
       "      <td>98</td>\n",
       "      <td>0</td>\n",
       "      <td>0</td>\n",
       "      <td>Albany</td>\n",
       "      <td>ALB</td>\n",
       "      <td>1</td>\n",
       "      <td>21</td>\n",
       "      <td>0</td>\n",
       "      <td>21</td>\n",
       "      <td>POINT (16.41166 5.96921)</td>\n",
       "    </tr>\n",
       "  </tbody>\n",
       "</table>\n",
       "</div>"
      ],
      "text/plain": [
       "    cbsa    geoid                          msa STATE  \\\n",
       "0  10180  4810180                  Abilene, TX    TX   \n",
       "1  10420  3910420                    Akron, OH    OH   \n",
       "2  10500  1310500                   Albany, GA    GA   \n",
       "3  10540  4110540           Albany-Lebanon, OR    OR   \n",
       "4  10580  3610580  Albany-Schenectady-Troy, NY    NY   \n",
       "\n",
       "   December_2020_LaborForce  December_2020_URate  Avg. Local Sales Tax  \\\n",
       "0                   79019.0                  5.4                  1.94   \n",
       "1                  347736.0                  5.3                  1.42   \n",
       "2                   65911.0                  7.0                  3.31   \n",
       "3                   60096.0                  6.0                  0.00   \n",
       "4                  429996.0                  5.3                  4.52   \n",
       "\n",
       "   State Sales Tax  Total Sales Tax  Property Tax per Capita  \\\n",
       "0             6.25             8.19                   1872.0   \n",
       "1             5.75             7.17                   1316.0   \n",
       "2             4.00             7.31                   1161.0   \n",
       "3             0.00             0.00                   1487.0   \n",
       "4             4.00             8.52                   2902.0   \n",
       "\n",
       "   Property Tax Rank Property Tax Throw Back Taxable Wages Rate  \\\n",
       "0               13.0                     NaN       0.31 - 6.31%   \n",
       "1               30.0                     NaN       0.30 - 9.40%   \n",
       "2               33.0                      No       0.04 - 7.56%   \n",
       "3               27.0                     Yes       0.70 - 5.40%   \n",
       "4                4.0                      No       0.60 - 7.90%   \n",
       "\n",
       "   New Employers Rate  Taxable Wage Base  \\\n",
       "0               0.027               9000   \n",
       "1               0.027               9000   \n",
       "2               0.027               9500   \n",
       "3               0.021              42100   \n",
       "4               0.032              11600   \n",
       "\n",
       "                                   Payroll Tax Notes  Individual Tax Rate  \\\n",
       "0                                                NaN                 0.00   \n",
       "1                                                NaN                 4.80   \n",
       "2  Includes 0.06% administrative assessment excep...                 5.75   \n",
       "3         Includes special payroll tax offset: 0.09%                 9.90   \n",
       "4  *2019, Includes 0.075% Re-employment Service F...                 8.82   \n",
       "\n",
       "   Individual Tax Brackets Graduated Individual Tax  \\\n",
       "0                        1                       No   \n",
       "1                        5                      Yes   \n",
       "2                        6                      Yes   \n",
       "3                        4                      Yes   \n",
       "4                        8                      Yes   \n",
       "\n",
       "                                  Franchise Tax Rate  Corporate Tax Rate  \\\n",
       "0  Revised franchise tax, otherwise known as marg...                0.00   \n",
       "1  No entity-level tax measured by net worth/capi...                0.00   \n",
       "2  Graduated tax from minimum of $125 to maximum ...                5.75   \n",
       "3  No entity-level tax measured by net worth/capi...                7.60   \n",
       "4  Capital value tax is part of overall franchise...                6.50   \n",
       "\n",
       "   Corporate Tax Brackets Graduated Corporate Tax  CODB  Fortune 500  \\\n",
       "0                       1                      No    90            0   \n",
       "1                       1                      No    98            2   \n",
       "2                       1                      No    97            0   \n",
       "3                       2                     Yes   101            0   \n",
       "4                       1                      No    98            0   \n",
       "\n",
       "   Fortune 1000 AIRPORT  CODE  NUMBER_AIRPORTS  NS_DOMESTIC  NS_INTERNATIONAL  \\\n",
       "0             0    None  None                0            0                 0   \n",
       "1             3    None  None                0            0                 0   \n",
       "2             0    None  None                0            0                 0   \n",
       "3             0    None  None                0            0                 0   \n",
       "4             0  Albany   ALB                1           21                 0   \n",
       "\n",
       "   NS_TOTAL                   geometry  \n",
       "0         0  POINT (-2.65545 -6.23183)  \n",
       "1         0   POINT (11.36298 3.30945)  \n",
       "2         0  POINT (10.51241 -6.46944)  \n",
       "3         0  POINT (-18.17322 8.41703)  \n",
       "4        21   POINT (16.41166 5.96921)  "
      ]
     },
     "execution_count": 75,
     "metadata": {},
     "output_type": "execute_result"
    }
   ],
   "source": [
    "msaSum.head()"
   ]
  },
  {
   "cell_type": "code",
   "execution_count": 76,
   "metadata": {
    "scrolled": false
   },
   "outputs": [],
   "source": [
    "msaSum.to_file('../../../data/spatial/msa/usMsaData.geojson', driver=\"GeoJSON\")"
   ]
  },
  {
   "cell_type": "code",
   "execution_count": null,
   "metadata": {},
   "outputs": [],
   "source": [
    "data = gpd.read_file('../../../data/spatial/msa/usMsaData.geojson')"
   ]
  },
  {
   "cell_type": "code",
   "execution_count": null,
   "metadata": {},
   "outputs": [],
   "source": []
  }
 ],
 "metadata": {
  "kernelspec": {
   "display_name": "Python 3",
   "language": "python",
   "name": "python3"
  },
  "language_info": {
   "codemirror_mode": {
    "name": "ipython",
    "version": 3
   },
   "file_extension": ".py",
   "mimetype": "text/x-python",
   "name": "python",
   "nbconvert_exporter": "python",
   "pygments_lexer": "ipython3",
   "version": "3.7.6"
  }
 },
 "nbformat": 4,
 "nbformat_minor": 4
}
