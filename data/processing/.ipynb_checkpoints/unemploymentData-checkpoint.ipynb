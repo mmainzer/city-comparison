{
 "cells": [
  {
   "cell_type": "code",
   "execution_count": 169,
   "metadata": {},
   "outputs": [],
   "source": [
    "import pandas as pd\n",
    "pd.set_option('display.max_columns', None)\n",
    "\n",
    "import requests\n",
    "import json\n",
    "import prettytable\n",
    "import geopandas as gpd\n",
    "import fiona"
   ]
  },
  {
   "cell_type": "code",
   "execution_count": 334,
   "metadata": {},
   "outputs": [],
   "source": [
    "blsSeries = pd.read_excel('../msaBlsSeries.xlsx')\n",
    "msa = gpd.read_file('../../../data/spatial/msa/usMsaCentroids.geojson')"
   ]
  },
  {
   "cell_type": "code",
   "execution_count": 335,
   "metadata": {},
   "outputs": [],
   "source": [
    "months = {'January':1, 'February':2, 'March':3, 'April':4, 'May':5, 'June':6, 'July':7, 'August':8,\n",
    "          'September':9,'October':10,'November':11,'December':12}"
   ]
  },
  {
   "cell_type": "code",
   "execution_count": 336,
   "metadata": {},
   "outputs": [],
   "source": [
    "uRateList = blsSeries['unemploymentRateSeries'].tolist()\n",
    "lfList = blsSeries['laborForceSeries'].tolist()"
   ]
  },
  {
   "cell_type": "code",
   "execution_count": 337,
   "metadata": {},
   "outputs": [
    {
     "name": "stdout",
     "output_type": "stream",
     "text": [
      "1 0 50\n",
      "2 50 100\n",
      "3 100 150\n",
      "4 150 200\n",
      "5 200 250\n",
      "6 250 300\n",
      "7 300 350\n",
      "8 350 400\n",
      "9 400 450\n",
      "10 450 500\n",
      "11 500 550\n",
      "12 550 600\n",
      "13 600 650\n",
      "14 650 700\n",
      "15 700 750\n",
      "16 750 800\n",
      "17 800 850\n",
      "18 850 900\n",
      "19 900 950\n",
      "20 950 1000\n"
     ]
    }
   ],
   "source": [
    "url = 'https://api.bls.gov/publicAPI/v2/timeseries/data/?registrationkey=6aff0b6bece9458d9ecfb4cd10a3a375'\n",
    "\n",
    "frames = []\n",
    "items = [1,2,3,4,5,6,7,8,9,10,11,12,13,14,15,16,17,18,19,20]\n",
    "start = 0\n",
    "end = 50\n",
    "\n",
    "for item in items:\n",
    "    seriesId = []\n",
    "    year = []\n",
    "    month = []\n",
    "    value = []\n",
    "\n",
    "    print(item, start, end)\n",
    "    chunk = uRateList[start:end]\n",
    "    areas = ','.join(chunk)\n",
    "    response = requests.post(url, data = {\"seriesid\":areas,\"startyear\":\"2018\",\"endyear\":\"2020\"})\n",
    "    \n",
    "    json_data = json.loads(response.text)\n",
    "    \n",
    "    for series in json_data['Results']['series']:\n",
    "        sid = series['seriesID']\n",
    "        for item in series['data']:\n",
    "            seriesId.append( sid )\n",
    "            year.append( item['year'] )\n",
    "            month.append ( item['periodName'] )\n",
    "            value.append( item['value'] )\n",
    "        \n",
    "    df = pd.DataFrame({'seriesId':seriesId,'month':month,'year':year,'value':value})\n",
    "    \n",
    "    frames.append(df)\n",
    "    \n",
    "    start += 50\n",
    "    end += 50"
   ]
  },
  {
   "cell_type": "code",
   "execution_count": 338,
   "metadata": {},
   "outputs": [],
   "source": [
    "uRateData = pd.concat( frames )"
   ]
  },
  {
   "cell_type": "code",
   "execution_count": 339,
   "metadata": {},
   "outputs": [
    {
     "data": {
      "text/plain": [
       "908"
      ]
     },
     "execution_count": 339,
     "metadata": {},
     "output_type": "execute_result"
    }
   ],
   "source": [
    "uRateData['seriesId'].nunique()"
   ]
  },
  {
   "cell_type": "code",
   "execution_count": 340,
   "metadata": {},
   "outputs": [],
   "source": [
    "uRate = blsSeries[['MSA','unemploymentRateSeries']]\n",
    "uRateData = pd.merge(uRateData,uRate,how='left',left_on='seriesId',right_on='unemploymentRateSeries')\n",
    "uRateData['Day'] = 1\n",
    "uRateData['Month'] = uRateData.month.map(months)\n",
    "uRateData['date'] = pd.to_datetime(uRateData[['Month','Day','year']])\n",
    "uRateData.sort_values(['seriesId','date'], inplace=True)\n",
    "uRateData['Month'] = uRateData['month'].str[:3]\n",
    "uRateData['value'] = uRateData['value'].astype(float)"
   ]
  },
  {
   "cell_type": "markdown",
   "metadata": {},
   "source": [
    "# Repeat that process but with the total labor force"
   ]
  },
  {
   "cell_type": "code",
   "execution_count": 341,
   "metadata": {},
   "outputs": [
    {
     "name": "stdout",
     "output_type": "stream",
     "text": [
      "1 0 50\n",
      "2 50 100\n",
      "3 100 150\n",
      "4 150 200\n",
      "5 200 250\n",
      "6 250 300\n",
      "7 300 350\n",
      "8 350 400\n",
      "9 400 450\n",
      "10 450 500\n",
      "11 500 550\n",
      "12 550 600\n",
      "13 600 650\n",
      "14 650 700\n",
      "15 700 750\n",
      "16 750 800\n",
      "17 800 850\n",
      "18 850 900\n",
      "19 900 950\n",
      "20 950 1000\n"
     ]
    }
   ],
   "source": [
    "url = 'https://api.bls.gov/publicAPI/v2/timeseries/data/?registrationkey=6aff0b6bece9458d9ecfb4cd10a3a375'\n",
    "\n",
    "frames = []\n",
    "items = [1,2,3,4,5,6,7,8,9,10,11,12,13,14,15,16,17,18,19,20]\n",
    "start = 0\n",
    "end = 50\n",
    "\n",
    "for item in items:\n",
    "    seriesId = []\n",
    "    year = []\n",
    "    month = []\n",
    "    value = []\n",
    "\n",
    "    print(item, start, end)\n",
    "    chunk = lfList[start:end]\n",
    "    areas = ','.join(chunk)\n",
    "    response = requests.post(url, data = {\"seriesid\":areas,\"startyear\":\"2018\",\"endyear\":\"2020\"})\n",
    "    \n",
    "    json_data = json.loads(response.text)\n",
    "    \n",
    "    for series in json_data['Results']['series']:\n",
    "        sid = series['seriesID']\n",
    "        for item in series['data']:\n",
    "            seriesId.append( sid )\n",
    "            year.append( item['year'] )\n",
    "            month.append ( item['periodName'] )\n",
    "            value.append( item['value'] )\n",
    "        \n",
    "    df = pd.DataFrame({'seriesId':seriesId,'month':month,'year':year,'value':value})\n",
    "    \n",
    "    frames.append(df)\n",
    "    \n",
    "    start += 50\n",
    "    end += 50"
   ]
  },
  {
   "cell_type": "code",
   "execution_count": 342,
   "metadata": {},
   "outputs": [
    {
     "data": {
      "text/plain": [
       "908"
      ]
     },
     "execution_count": 342,
     "metadata": {},
     "output_type": "execute_result"
    }
   ],
   "source": [
    "lfData = pd.concat( frames )\n",
    "lfData['seriesId'].nunique()"
   ]
  },
  {
   "cell_type": "code",
   "execution_count": null,
   "metadata": {},
   "outputs": [],
   "source": []
  },
  {
   "cell_type": "code",
   "execution_count": 343,
   "metadata": {},
   "outputs": [],
   "source": [
    "lfSeries = blsSeries[['MSA','laborForceSeries']]\n",
    "lfData = pd.merge(lfData,lfSeries,how='left',left_on='seriesId',right_on='laborForceSeries')\n",
    "lfData['Day'] = 1\n",
    "lfData['Month'] = lfData.month.map(months)\n",
    "lfData['date'] = pd.to_datetime(lfData[['Month','Day','year']])\n",
    "lfData.sort_values(['seriesId','date'], inplace=True)\n",
    "lfData['Month'] = lfData['month'].str[:3]\n",
    "lfData['value'] = lfData['value'].astype(float)"
   ]
  },
  {
   "cell_type": "code",
   "execution_count": 344,
   "metadata": {},
   "outputs": [],
   "source": [
    "uRateCurr = uRateData.loc[(uRateData['month'] == 'October') & (uRateData['year'] == '2020')]\n",
    "uRateLast = uRateData.loc[(uRateData['month'] == 'October') & (uRateData['year'] == '2019')]\n",
    "\n",
    "uRateCurr = uRateCurr[['MSA','seriesId','value']]\n",
    "uRateCurr.rename(columns={'value':'October_2020_URate'}, inplace=True)\n",
    "\n",
    "uRateLast = uRateLast[['seriesId','value']]\n",
    "uRateLast.rename(columns={'value':'October_2019_URate'}, inplace=True)\n",
    "\n",
    "uRateSum = pd.merge(uRateCurr, uRateLast, how='left', on='seriesId')\n",
    "uRateSum['geoid'] = uRateSum['seriesId'].str[5:12]"
   ]
  },
  {
   "cell_type": "code",
   "execution_count": 345,
   "metadata": {},
   "outputs": [],
   "source": [
    "lfCurr = lfData.loc[(lfData['month'] == 'October') & (lfData['year'] == '2020')]\n",
    "lfLast = lfData.loc[(lfData['month'] == 'October') & (lfData['year'] == '2019')]\n",
    "\n",
    "lfCurr = lfCurr[['MSA','seriesId','value']]\n",
    "lfCurr.rename(columns={'value':'October_2020_LaborForce'}, inplace=True)\n",
    "\n",
    "lfLast = lfLast[['seriesId','value']]\n",
    "lfLast.rename(columns={'value':'October_2019_LaborForce'}, inplace=True)\n",
    "\n",
    "lfSum = pd.merge(lfCurr, lfLast, how='left', on='seriesId')\n",
    "lfSum['geoid'] = lfSum['seriesId'].str[5:12]"
   ]
  },
  {
   "cell_type": "code",
   "execution_count": 346,
   "metadata": {},
   "outputs": [],
   "source": [
    "msa['state'] = msa['area'].str[-2:]"
   ]
  },
  {
   "cell_type": "code",
   "execution_count": 347,
   "metadata": {},
   "outputs": [],
   "source": [
    "msa = pd.merge(msa,lfSum,how='left',on='geoid')"
   ]
  },
  {
   "cell_type": "code",
   "execution_count": 348,
   "metadata": {},
   "outputs": [],
   "source": [
    "del msa['seriesId']\n",
    "msa = pd.merge(msa,uRateSum,how='left',on='geoid')\n",
    "del msa['seriesId']"
   ]
  },
  {
   "cell_type": "code",
   "execution_count": 349,
   "metadata": {},
   "outputs": [],
   "source": [
    "msa = msa[['geoid','cbsa','area','state','October_2020_LaborForce','October_2020_URate','geometry']]"
   ]
  },
  {
   "cell_type": "code",
   "execution_count": 350,
   "metadata": {},
   "outputs": [
    {
     "name": "stderr",
     "output_type": "stream",
     "text": [
      "/Users/mmainza/opt/anaconda3/lib/python3.7/site-packages/pyproj/crs/crs.py:53: FutureWarning: '+init=<authority>:<code>' syntax is deprecated. '<authority>:<code>' is the preferred initialization method. When making the change, be mindful of axis order changes: https://pyproj4.github.io/pyproj/stable/gotchas.html#axis-order-changes-in-proj-6\n",
      "  return _prepare_from_string(\" \".join(pjargs))\n"
     ]
    }
   ],
   "source": [
    "crs = {'init': 'epsg:4326'}\n",
    "msa = gpd.GeoDataFrame(msa, crs=crs, geometry=msa['geometry'])"
   ]
  },
  {
   "cell_type": "code",
   "execution_count": 351,
   "metadata": {},
   "outputs": [],
   "source": [
    "nulls = msa[msa['October_2020_URate'].isnull()]"
   ]
  },
  {
   "cell_type": "code",
   "execution_count": 352,
   "metadata": {},
   "outputs": [],
   "source": [
    "nulls.to_excel('deleteNulls.xlsx', index=False)"
   ]
  },
  {
   "cell_type": "code",
   "execution_count": null,
   "metadata": {},
   "outputs": [],
   "source": []
  },
  {
   "cell_type": "code",
   "execution_count": 353,
   "metadata": {},
   "outputs": [],
   "source": [
    "msa['October_2020_LaborForce'].fillna(0, inplace=True)\n",
    "msa['October_2020_LaborForce'] = msa['October_2020_LaborForce'].astype(int)"
   ]
  },
  {
   "cell_type": "code",
   "execution_count": 354,
   "metadata": {},
   "outputs": [],
   "source": [
    "msa.to_file('../../../data/spatial/msa/usMsaData.geojson', driver=\"GeoJSON\")"
   ]
  },
  {
   "cell_type": "code",
   "execution_count": null,
   "metadata": {},
   "outputs": [],
   "source": [
    "# summarize to get latest and previous year"
   ]
  },
  {
   "cell_type": "code",
   "execution_count": 410,
   "metadata": {},
   "outputs": [],
   "source": [
    "# write files\n",
    "\n",
    "msaList = pd.read_excel('../msaBlsSeries.xlsx', sheet_name=\"msaList\")\n",
    "series = pd.read_excel('../msaBlsSeries.xlsx', sheet_name=\"blsSeries\")"
   ]
  },
  {
   "cell_type": "code",
   "execution_count": 411,
   "metadata": {},
   "outputs": [
    {
     "data": {
      "text/html": [
       "<div>\n",
       "<style scoped>\n",
       "    .dataframe tbody tr th:only-of-type {\n",
       "        vertical-align: middle;\n",
       "    }\n",
       "\n",
       "    .dataframe tbody tr th {\n",
       "        vertical-align: top;\n",
       "    }\n",
       "\n",
       "    .dataframe thead th {\n",
       "        text-align: right;\n",
       "    }\n",
       "</style>\n",
       "<table border=\"1\" class=\"dataframe\">\n",
       "  <thead>\n",
       "    <tr style=\"text-align: right;\">\n",
       "      <th></th>\n",
       "      <th>geoid</th>\n",
       "      <th>MSA</th>\n",
       "      <th>CBSA Title</th>\n",
       "      <th>STATE</th>\n",
       "    </tr>\n",
       "  </thead>\n",
       "  <tbody>\n",
       "    <tr>\n",
       "      <th>0</th>\n",
       "      <td>10180</td>\n",
       "      <td>Abilene, TX</td>\n",
       "      <td>Abilene, TX</td>\n",
       "      <td>TX</td>\n",
       "    </tr>\n",
       "    <tr>\n",
       "      <th>1</th>\n",
       "      <td>10420</td>\n",
       "      <td>Akron, OH</td>\n",
       "      <td>Akron, OH</td>\n",
       "      <td>OH</td>\n",
       "    </tr>\n",
       "    <tr>\n",
       "      <th>2</th>\n",
       "      <td>10580</td>\n",
       "      <td>Albany-Schenectady-Troy, NY</td>\n",
       "      <td>Albany-Schenectady-Troy, NY</td>\n",
       "      <td>NY</td>\n",
       "    </tr>\n",
       "    <tr>\n",
       "      <th>3</th>\n",
       "      <td>10500</td>\n",
       "      <td>Albany, GA</td>\n",
       "      <td>Albany, GA</td>\n",
       "      <td>GA</td>\n",
       "    </tr>\n",
       "    <tr>\n",
       "      <th>4</th>\n",
       "      <td>10540</td>\n",
       "      <td>Albany-Lebanon, OR</td>\n",
       "      <td>Albany-Lebanon, OR</td>\n",
       "      <td>OR</td>\n",
       "    </tr>\n",
       "  </tbody>\n",
       "</table>\n",
       "</div>"
      ],
      "text/plain": [
       "   geoid                          MSA                   CBSA Title STATE\n",
       "0  10180                  Abilene, TX                  Abilene, TX    TX\n",
       "1  10420                    Akron, OH                    Akron, OH    OH\n",
       "2  10580  Albany-Schenectady-Troy, NY  Albany-Schenectady-Troy, NY    NY\n",
       "3  10500                   Albany, GA                   Albany, GA    GA\n",
       "4  10540           Albany-Lebanon, OR           Albany-Lebanon, OR    OR"
      ]
     },
     "execution_count": 411,
     "metadata": {},
     "output_type": "execute_result"
    }
   ],
   "source": [
    "msaList.head()"
   ]
  },
  {
   "cell_type": "code",
   "execution_count": null,
   "metadata": {},
   "outputs": [],
   "source": []
  },
  {
   "cell_type": "code",
   "execution_count": 406,
   "metadata": {},
   "outputs": [],
   "source": [
    "cbsa.rename(columns={'CBSA Code':'geoid'}, inplace=True)\n",
    "cbsa = cbsa[['geoid','CBSA Title']]"
   ]
  },
  {
   "cell_type": "code",
   "execution_count": 407,
   "metadata": {},
   "outputs": [],
   "source": [
    "cbsa.drop_duplicates(subset='geoid', inplace=True)"
   ]
  },
  {
   "cell_type": "code",
   "execution_count": 408,
   "metadata": {},
   "outputs": [],
   "source": [
    "msaList = pd.merge(msaList,cbsa,how='left',left_on='MSA',right_on='CBSA Title')"
   ]
  },
  {
   "cell_type": "code",
   "execution_count": 409,
   "metadata": {},
   "outputs": [],
   "source": [
    "msaList.to_excel('deteleMsaList.xlsx', index=False)"
   ]
  },
  {
   "cell_type": "code",
   "execution_count": null,
   "metadata": {},
   "outputs": [],
   "source": []
  }
 ],
 "metadata": {
  "kernelspec": {
   "display_name": "Python 3",
   "language": "python",
   "name": "python3"
  },
  "language_info": {
   "codemirror_mode": {
    "name": "ipython",
    "version": 3
   },
   "file_extension": ".py",
   "mimetype": "text/x-python",
   "name": "python",
   "nbconvert_exporter": "python",
   "pygments_lexer": "ipython3",
   "version": "3.7.6"
  }
 },
 "nbformat": 4,
 "nbformat_minor": 4
}
