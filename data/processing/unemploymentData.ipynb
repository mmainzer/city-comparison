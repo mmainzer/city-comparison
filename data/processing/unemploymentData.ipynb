{
 "cells": [
  {
   "cell_type": "code",
   "execution_count": 466,
   "metadata": {},
   "outputs": [],
   "source": [
    "import pandas as pd\n",
    "pd.set_option('display.max_columns', None)\n",
    "\n",
    "import requests\n",
    "import json\n",
    "import prettytable\n",
    "import geopandas as gpd\n",
    "import fiona"
   ]
  },
  {
   "cell_type": "code",
   "execution_count": 467,
   "metadata": {},
   "outputs": [],
   "source": [
    "blsSeries = pd.read_excel('../msaBlsSeries.xlsx', sheet_name=\"blsSeries\")\n",
    "msa = gpd.read_file('../../../data/spatial/msa/usMsaCentroids.geojson')"
   ]
  },
  {
   "cell_type": "code",
   "execution_count": 468,
   "metadata": {},
   "outputs": [],
   "source": [
    "months = {'January':1, 'February':2, 'March':3, 'April':4, 'May':5, 'June':6, 'July':7, 'August':8,\n",
    "          'September':9,'October':10,'November':11,'December':12}"
   ]
  },
  {
   "cell_type": "code",
   "execution_count": 469,
   "metadata": {},
   "outputs": [],
   "source": [
    "uRateList = blsSeries['unemploymentRateSeries'].tolist()\n",
    "lfList = blsSeries['laborForceSeries'].tolist()"
   ]
  },
  {
   "cell_type": "code",
   "execution_count": 470,
   "metadata": {},
   "outputs": [
    {
     "name": "stdout",
     "output_type": "stream",
     "text": [
      "1 0 50\n",
      "2 50 100\n",
      "3 100 150\n",
      "4 150 200\n",
      "5 200 250\n",
      "6 250 300\n",
      "7 300 350\n",
      "8 350 400\n"
     ]
    }
   ],
   "source": [
    "url = 'https://api.bls.gov/publicAPI/v2/timeseries/data/?registrationkey=6aff0b6bece9458d9ecfb4cd10a3a375'\n",
    "\n",
    "frames = []\n",
    "items = [1,2,3,4,5,6,7,8]\n",
    "start = 0\n",
    "end = 50\n",
    "\n",
    "for item in items:\n",
    "    seriesId = []\n",
    "    year = []\n",
    "    month = []\n",
    "    value = []\n",
    "\n",
    "    print(item, start, end)\n",
    "    chunk = uRateList[start:end]\n",
    "    areas = ','.join(chunk)\n",
    "    response = requests.post(url, data = {\"seriesid\":areas,\"startyear\":\"2018\",\"endyear\":\"2020\"})\n",
    "    \n",
    "    json_data = json.loads(response.text)\n",
    "    \n",
    "    for series in json_data['Results']['series']:\n",
    "        sid = series['seriesID']\n",
    "        for item in series['data']:\n",
    "            seriesId.append( sid )\n",
    "            year.append( item['year'] )\n",
    "            month.append ( item['periodName'] )\n",
    "            value.append( item['value'] )\n",
    "        \n",
    "    df = pd.DataFrame({'seriesId':seriesId,'month':month,'year':year,'value':value})\n",
    "    \n",
    "    frames.append(df)\n",
    "    \n",
    "    start += 50\n",
    "    end += 50"
   ]
  },
  {
   "cell_type": "code",
   "execution_count": 471,
   "metadata": {},
   "outputs": [],
   "source": [
    "uRateData = pd.concat( frames )"
   ]
  },
  {
   "cell_type": "code",
   "execution_count": 472,
   "metadata": {},
   "outputs": [
    {
     "data": {
      "text/plain": [
       "381"
      ]
     },
     "execution_count": 472,
     "metadata": {},
     "output_type": "execute_result"
    }
   ],
   "source": [
    "uRateData['seriesId'].nunique()"
   ]
  },
  {
   "cell_type": "code",
   "execution_count": 473,
   "metadata": {},
   "outputs": [],
   "source": [
    "uRate = blsSeries[['MSA','unemploymentRateSeries']]\n",
    "uRateData = pd.merge(uRateData,uRate,how='left',left_on='seriesId',right_on='unemploymentRateSeries')\n",
    "uRateData['Day'] = 1\n",
    "uRateData['Month'] = uRateData.month.map(months)\n",
    "uRateData['date'] = pd.to_datetime(uRateData[['Month','Day','year']])\n",
    "uRateData.sort_values(['seriesId','date'], inplace=True)\n",
    "uRateData['Month'] = uRateData['month'].str[:3]\n",
    "uRateData['value'] = uRateData['value'].astype(float)"
   ]
  },
  {
   "cell_type": "markdown",
   "metadata": {},
   "source": [
    "# Repeat that process but with the total labor force"
   ]
  },
  {
   "cell_type": "code",
   "execution_count": 474,
   "metadata": {},
   "outputs": [
    {
     "name": "stdout",
     "output_type": "stream",
     "text": [
      "1 0 50\n",
      "2 50 100\n",
      "3 100 150\n",
      "4 150 200\n",
      "5 200 250\n",
      "6 250 300\n",
      "7 300 350\n",
      "8 350 400\n"
     ]
    }
   ],
   "source": [
    "url = 'https://api.bls.gov/publicAPI/v2/timeseries/data/?registrationkey=6aff0b6bece9458d9ecfb4cd10a3a375'\n",
    "\n",
    "frames = []\n",
    "items = [1,2,3,4,5,6,7,8]\n",
    "start = 0\n",
    "end = 50\n",
    "\n",
    "for item in items:\n",
    "    seriesId = []\n",
    "    year = []\n",
    "    month = []\n",
    "    value = []\n",
    "\n",
    "    print(item, start, end)\n",
    "    chunk = lfList[start:end]\n",
    "    areas = ','.join(chunk)\n",
    "    response = requests.post(url, data = {\"seriesid\":areas,\"startyear\":\"2018\",\"endyear\":\"2020\"})\n",
    "    \n",
    "    json_data = json.loads(response.text)\n",
    "    \n",
    "    for series in json_data['Results']['series']:\n",
    "        sid = series['seriesID']\n",
    "        for item in series['data']:\n",
    "            seriesId.append( sid )\n",
    "            year.append( item['year'] )\n",
    "            month.append ( item['periodName'] )\n",
    "            value.append( item['value'] )\n",
    "        \n",
    "    df = pd.DataFrame({'seriesId':seriesId,'month':month,'year':year,'value':value})\n",
    "    \n",
    "    frames.append(df)\n",
    "    \n",
    "    start += 50\n",
    "    end += 50"
   ]
  },
  {
   "cell_type": "code",
   "execution_count": 475,
   "metadata": {},
   "outputs": [
    {
     "data": {
      "text/plain": [
       "381"
      ]
     },
     "execution_count": 475,
     "metadata": {},
     "output_type": "execute_result"
    }
   ],
   "source": [
    "lfData = pd.concat( frames )\n",
    "lfData['seriesId'].nunique()"
   ]
  },
  {
   "cell_type": "code",
   "execution_count": 476,
   "metadata": {},
   "outputs": [],
   "source": [
    "lfSeries = blsSeries[['MSA','laborForceSeries']]\n",
    "lfData = pd.merge(lfData,lfSeries,how='left',left_on='seriesId',right_on='laborForceSeries')\n",
    "lfData['Day'] = 1\n",
    "lfData['Month'] = lfData.month.map(months)\n",
    "lfData['date'] = pd.to_datetime(lfData[['Month','Day','year']])\n",
    "lfData.sort_values(['seriesId','date'], inplace=True)\n",
    "lfData['Month'] = lfData['month'].str[:3]\n",
    "lfData['value'] = lfData['value'].astype(float)"
   ]
  },
  {
   "cell_type": "code",
   "execution_count": 477,
   "metadata": {},
   "outputs": [],
   "source": [
    "uRateCurr = uRateData.loc[(uRateData['month'] == 'October') & (uRateData['year'] == '2020')]\n",
    "uRateLast = uRateData.loc[(uRateData['month'] == 'October') & (uRateData['year'] == '2019')]\n",
    "\n",
    "uRateCurr = uRateCurr[['MSA','seriesId','value']]\n",
    "uRateCurr.rename(columns={'value':'October_2020_URate'}, inplace=True)\n",
    "\n",
    "uRateLast = uRateLast[['seriesId','value']]\n",
    "uRateLast.rename(columns={'value':'October_2019_URate'}, inplace=True)\n",
    "\n",
    "uRateSum = pd.merge(uRateCurr, uRateLast, how='left', on='seriesId')\n",
    "uRateSum['geoid'] = uRateSum['seriesId'].str[5:12]"
   ]
  },
  {
   "cell_type": "code",
   "execution_count": 478,
   "metadata": {},
   "outputs": [],
   "source": [
    "lfCurr = lfData.loc[(lfData['month'] == 'October') & (lfData['year'] == '2020')]\n",
    "lfLast = lfData.loc[(lfData['month'] == 'October') & (lfData['year'] == '2019')]\n",
    "\n",
    "lfCurr = lfCurr[['MSA','seriesId','value']]\n",
    "lfCurr.rename(columns={'value':'October_2020_LaborForce'}, inplace=True)\n",
    "\n",
    "lfLast = lfLast[['seriesId','value']]\n",
    "lfLast.rename(columns={'value':'October_2019_LaborForce'}, inplace=True)\n",
    "\n",
    "lfSum = pd.merge(lfCurr, lfLast, how='left', on='seriesId')\n",
    "lfSum['geoid'] = lfSum['seriesId'].str[5:12]"
   ]
  },
  {
   "cell_type": "code",
   "execution_count": 479,
   "metadata": {},
   "outputs": [
    {
     "data": {
      "text/html": [
       "<div>\n",
       "<style scoped>\n",
       "    .dataframe tbody tr th:only-of-type {\n",
       "        vertical-align: middle;\n",
       "    }\n",
       "\n",
       "    .dataframe tbody tr th {\n",
       "        vertical-align: top;\n",
       "    }\n",
       "\n",
       "    .dataframe thead th {\n",
       "        text-align: right;\n",
       "    }\n",
       "</style>\n",
       "<table border=\"1\" class=\"dataframe\">\n",
       "  <thead>\n",
       "    <tr style=\"text-align: right;\">\n",
       "      <th></th>\n",
       "      <th>geoid</th>\n",
       "      <th>cbsa</th>\n",
       "      <th>area</th>\n",
       "      <th>geometry</th>\n",
       "    </tr>\n",
       "  </thead>\n",
       "  <tbody>\n",
       "    <tr>\n",
       "      <th>0</th>\n",
       "      <td>1312020</td>\n",
       "      <td>12020</td>\n",
       "      <td>Athens-Clarke County, GA</td>\n",
       "      <td>POINT (-83.21379 33.94901)</td>\n",
       "    </tr>\n",
       "    <tr>\n",
       "      <th>1</th>\n",
       "      <td>1312060</td>\n",
       "      <td>12060</td>\n",
       "      <td>Atlanta-Sandy Springs-Alpharetta, GA</td>\n",
       "      <td>POINT (-84.39957 33.69277)</td>\n",
       "    </tr>\n",
       "  </tbody>\n",
       "</table>\n",
       "</div>"
      ],
      "text/plain": [
       "     geoid   cbsa                                  area  \\\n",
       "0  1312020  12020              Athens-Clarke County, GA   \n",
       "1  1312060  12060  Atlanta-Sandy Springs-Alpharetta, GA   \n",
       "\n",
       "                     geometry  \n",
       "0  POINT (-83.21379 33.94901)  \n",
       "1  POINT (-84.39957 33.69277)  "
      ]
     },
     "execution_count": 479,
     "metadata": {},
     "output_type": "execute_result"
    }
   ],
   "source": [
    "msa.head(2)"
   ]
  },
  {
   "cell_type": "code",
   "execution_count": 484,
   "metadata": {},
   "outputs": [],
   "source": [
    "lfSum['cbsa'] = lfSum['geoid'].str[-5:]\n",
    "uRateSum['cbsa'] = uRateSum['geoid'].str[-5:]"
   ]
  },
  {
   "cell_type": "code",
   "execution_count": 485,
   "metadata": {},
   "outputs": [
    {
     "data": {
      "text/html": [
       "<div>\n",
       "<style scoped>\n",
       "    .dataframe tbody tr th:only-of-type {\n",
       "        vertical-align: middle;\n",
       "    }\n",
       "\n",
       "    .dataframe tbody tr th {\n",
       "        vertical-align: top;\n",
       "    }\n",
       "\n",
       "    .dataframe thead th {\n",
       "        text-align: right;\n",
       "    }\n",
       "</style>\n",
       "<table border=\"1\" class=\"dataframe\">\n",
       "  <thead>\n",
       "    <tr style=\"text-align: right;\">\n",
       "      <th></th>\n",
       "      <th>MSA</th>\n",
       "      <th>seriesId</th>\n",
       "      <th>October_2020_LaborForce</th>\n",
       "      <th>October_2019_LaborForce</th>\n",
       "      <th>geoid</th>\n",
       "      <th>cbsa</th>\n",
       "    </tr>\n",
       "  </thead>\n",
       "  <tbody>\n",
       "    <tr>\n",
       "      <th>0</th>\n",
       "      <td>Anniston-Oxford, AL</td>\n",
       "      <td>LAUMT011150000000006</td>\n",
       "      <td>44790.0</td>\n",
       "      <td>46508.0</td>\n",
       "      <td>0111500</td>\n",
       "      <td>11500</td>\n",
       "    </tr>\n",
       "    <tr>\n",
       "      <th>1</th>\n",
       "      <td>Auburn-Opelika, AL</td>\n",
       "      <td>LAUMT011222000000006</td>\n",
       "      <td>76179.0</td>\n",
       "      <td>77850.0</td>\n",
       "      <td>0112220</td>\n",
       "      <td>12220</td>\n",
       "    </tr>\n",
       "  </tbody>\n",
       "</table>\n",
       "</div>"
      ],
      "text/plain": [
       "                   MSA              seriesId  October_2020_LaborForce  \\\n",
       "0  Anniston-Oxford, AL  LAUMT011150000000006                  44790.0   \n",
       "1   Auburn-Opelika, AL  LAUMT011222000000006                  76179.0   \n",
       "\n",
       "   October_2019_LaborForce    geoid   cbsa  \n",
       "0                  46508.0  0111500  11500  \n",
       "1                  77850.0  0112220  12220  "
      ]
     },
     "execution_count": 485,
     "metadata": {},
     "output_type": "execute_result"
    }
   ],
   "source": [
    "lfSum.head(2)"
   ]
  },
  {
   "cell_type": "code",
   "execution_count": 486,
   "metadata": {},
   "outputs": [
    {
     "data": {
      "text/html": [
       "<div>\n",
       "<style scoped>\n",
       "    .dataframe tbody tr th:only-of-type {\n",
       "        vertical-align: middle;\n",
       "    }\n",
       "\n",
       "    .dataframe tbody tr th {\n",
       "        vertical-align: top;\n",
       "    }\n",
       "\n",
       "    .dataframe thead th {\n",
       "        text-align: right;\n",
       "    }\n",
       "</style>\n",
       "<table border=\"1\" class=\"dataframe\">\n",
       "  <thead>\n",
       "    <tr style=\"text-align: right;\">\n",
       "      <th></th>\n",
       "      <th>MSA</th>\n",
       "      <th>seriesId</th>\n",
       "      <th>October_2020_URate</th>\n",
       "      <th>October_2019_URate</th>\n",
       "      <th>geoid</th>\n",
       "      <th>cbsa</th>\n",
       "    </tr>\n",
       "  </thead>\n",
       "  <tbody>\n",
       "    <tr>\n",
       "      <th>0</th>\n",
       "      <td>Anniston-Oxford, AL</td>\n",
       "      <td>LAUMT011150000000003</td>\n",
       "      <td>6.6</td>\n",
       "      <td>3.0</td>\n",
       "      <td>0111500</td>\n",
       "      <td>11500</td>\n",
       "    </tr>\n",
       "    <tr>\n",
       "      <th>1</th>\n",
       "      <td>Auburn-Opelika, AL</td>\n",
       "      <td>LAUMT011222000000003</td>\n",
       "      <td>4.6</td>\n",
       "      <td>2.2</td>\n",
       "      <td>0112220</td>\n",
       "      <td>12220</td>\n",
       "    </tr>\n",
       "  </tbody>\n",
       "</table>\n",
       "</div>"
      ],
      "text/plain": [
       "                   MSA              seriesId  October_2020_URate  \\\n",
       "0  Anniston-Oxford, AL  LAUMT011150000000003                 6.6   \n",
       "1   Auburn-Opelika, AL  LAUMT011222000000003                 4.6   \n",
       "\n",
       "   October_2019_URate    geoid   cbsa  \n",
       "0                 3.0  0111500  11500  \n",
       "1                 2.2  0112220  12220  "
      ]
     },
     "execution_count": 486,
     "metadata": {},
     "output_type": "execute_result"
    }
   ],
   "source": [
    "uRateSum.head(2)"
   ]
  },
  {
   "cell_type": "code",
   "execution_count": 487,
   "metadata": {},
   "outputs": [
    {
     "data": {
      "text/plain": [
       "(381, 6)"
      ]
     },
     "execution_count": 487,
     "metadata": {},
     "output_type": "execute_result"
    }
   ],
   "source": [
    "lfSum.shape"
   ]
  },
  {
   "cell_type": "code",
   "execution_count": 488,
   "metadata": {},
   "outputs": [
    {
     "data": {
      "text/plain": [
       "(381, 6)"
      ]
     },
     "execution_count": 488,
     "metadata": {},
     "output_type": "execute_result"
    }
   ],
   "source": [
    "uRateSum.shape"
   ]
  },
  {
   "cell_type": "code",
   "execution_count": 489,
   "metadata": {},
   "outputs": [],
   "source": [
    "sumStats = pd.merge(lfSum,uRateSum, how='left', on='cbsa')"
   ]
  },
  {
   "cell_type": "code",
   "execution_count": 492,
   "metadata": {},
   "outputs": [],
   "source": [
    "sumStats = sumStats[['cbsa','geoid_x','MSA_x','October_2020_LaborForce','October_2020_URate']]"
   ]
  },
  {
   "cell_type": "code",
   "execution_count": 494,
   "metadata": {},
   "outputs": [
    {
     "data": {
      "text/html": [
       "<div>\n",
       "<style scoped>\n",
       "    .dataframe tbody tr th:only-of-type {\n",
       "        vertical-align: middle;\n",
       "    }\n",
       "\n",
       "    .dataframe tbody tr th {\n",
       "        vertical-align: top;\n",
       "    }\n",
       "\n",
       "    .dataframe thead th {\n",
       "        text-align: right;\n",
       "    }\n",
       "</style>\n",
       "<table border=\"1\" class=\"dataframe\">\n",
       "  <thead>\n",
       "    <tr style=\"text-align: right;\">\n",
       "      <th></th>\n",
       "      <th>cbsa</th>\n",
       "      <th>geoid_x</th>\n",
       "      <th>MSA_x</th>\n",
       "      <th>October_2020_LaborForce</th>\n",
       "      <th>October_2020_URate</th>\n",
       "    </tr>\n",
       "  </thead>\n",
       "  <tbody>\n",
       "    <tr>\n",
       "      <th>0</th>\n",
       "      <td>11500</td>\n",
       "      <td>0111500</td>\n",
       "      <td>Anniston-Oxford, AL</td>\n",
       "      <td>44790.0</td>\n",
       "      <td>6.6</td>\n",
       "    </tr>\n",
       "    <tr>\n",
       "      <th>1</th>\n",
       "      <td>12220</td>\n",
       "      <td>0112220</td>\n",
       "      <td>Auburn-Opelika, AL</td>\n",
       "      <td>76179.0</td>\n",
       "      <td>4.6</td>\n",
       "    </tr>\n",
       "  </tbody>\n",
       "</table>\n",
       "</div>"
      ],
      "text/plain": [
       "    cbsa  geoid_x                MSA_x  October_2020_LaborForce  \\\n",
       "0  11500  0111500  Anniston-Oxford, AL                  44790.0   \n",
       "1  12220  0112220   Auburn-Opelika, AL                  76179.0   \n",
       "\n",
       "   October_2020_URate  \n",
       "0                 6.6  \n",
       "1                 4.6  "
      ]
     },
     "execution_count": 494,
     "metadata": {},
     "output_type": "execute_result"
    }
   ],
   "source": [
    "sumStats.head(2)"
   ]
  },
  {
   "cell_type": "code",
   "execution_count": 498,
   "metadata": {},
   "outputs": [],
   "source": [
    "msaSum = pd.merge(sumStats,msa,how='left',on='cbsa')"
   ]
  },
  {
   "cell_type": "code",
   "execution_count": 500,
   "metadata": {},
   "outputs": [],
   "source": [
    "msaSum['state'] = msaSum['MSA_x'].str[-2:]\n",
    "msaSum = msaSum[['cbsa','geoid','MSA_x','state','October_2020_LaborForce','October_2020_URate','geometry']]\n",
    "msaSum.rename(columns={'MSA_x':'msa'}, inplace=True)\n"
   ]
  },
  {
   "cell_type": "code",
   "execution_count": 502,
   "metadata": {},
   "outputs": [
    {
     "name": "stderr",
     "output_type": "stream",
     "text": [
      "/Users/mmainza/opt/anaconda3/lib/python3.7/site-packages/pyproj/crs/crs.py:53: FutureWarning: '+init=<authority>:<code>' syntax is deprecated. '<authority>:<code>' is the preferred initialization method. When making the change, be mindful of axis order changes: https://pyproj4.github.io/pyproj/stable/gotchas.html#axis-order-changes-in-proj-6\n",
      "  return _prepare_from_string(\" \".join(pjargs))\n"
     ]
    }
   ],
   "source": [
    "crs = {'init': 'epsg:4326'}\n",
    "msaSum = gpd.GeoDataFrame(msaSum, crs=crs, geometry=msaSum['geometry'])"
   ]
  },
  {
   "cell_type": "code",
   "execution_count": 503,
   "metadata": {},
   "outputs": [
    {
     "data": {
      "text/html": [
       "<div>\n",
       "<style scoped>\n",
       "    .dataframe tbody tr th:only-of-type {\n",
       "        vertical-align: middle;\n",
       "    }\n",
       "\n",
       "    .dataframe tbody tr th {\n",
       "        vertical-align: top;\n",
       "    }\n",
       "\n",
       "    .dataframe thead th {\n",
       "        text-align: right;\n",
       "    }\n",
       "</style>\n",
       "<table border=\"1\" class=\"dataframe\">\n",
       "  <thead>\n",
       "    <tr style=\"text-align: right;\">\n",
       "      <th></th>\n",
       "      <th>cbsa</th>\n",
       "      <th>geoid</th>\n",
       "      <th>msa</th>\n",
       "      <th>state</th>\n",
       "      <th>October_2020_LaborForce</th>\n",
       "      <th>October_2020_URate</th>\n",
       "      <th>geometry</th>\n",
       "    </tr>\n",
       "  </thead>\n",
       "  <tbody>\n",
       "    <tr>\n",
       "      <th>0</th>\n",
       "      <td>11500</td>\n",
       "      <td>0111500</td>\n",
       "      <td>Anniston-Oxford, AL</td>\n",
       "      <td>AL</td>\n",
       "      <td>44790.0</td>\n",
       "      <td>6.6</td>\n",
       "      <td>POINT (-85.82603 33.77143)</td>\n",
       "    </tr>\n",
       "    <tr>\n",
       "      <th>1</th>\n",
       "      <td>12220</td>\n",
       "      <td>0112220</td>\n",
       "      <td>Auburn-Opelika, AL</td>\n",
       "      <td>AL</td>\n",
       "      <td>76179.0</td>\n",
       "      <td>4.6</td>\n",
       "      <td>POINT (-85.35556 32.60114)</td>\n",
       "    </tr>\n",
       "    <tr>\n",
       "      <th>2</th>\n",
       "      <td>13820</td>\n",
       "      <td>0113820</td>\n",
       "      <td>Birmingham-Hoover, AL</td>\n",
       "      <td>AL</td>\n",
       "      <td>549137.0</td>\n",
       "      <td>5.3</td>\n",
       "      <td>POINT (-86.72819 33.40368)</td>\n",
       "    </tr>\n",
       "    <tr>\n",
       "      <th>3</th>\n",
       "      <td>19300</td>\n",
       "      <td>0119300</td>\n",
       "      <td>Daphne-Fairhope-Foley, AL</td>\n",
       "      <td>AL</td>\n",
       "      <td>95660.0</td>\n",
       "      <td>5.0</td>\n",
       "      <td>POINT (-87.74984 30.66097)</td>\n",
       "    </tr>\n",
       "    <tr>\n",
       "      <th>4</th>\n",
       "      <td>19460</td>\n",
       "      <td>0119460</td>\n",
       "      <td>Decatur, AL</td>\n",
       "      <td>AL</td>\n",
       "      <td>71437.0</td>\n",
       "      <td>4.1</td>\n",
       "      <td>POINT (-87.10264 34.49064)</td>\n",
       "    </tr>\n",
       "  </tbody>\n",
       "</table>\n",
       "</div>"
      ],
      "text/plain": [
       "    cbsa    geoid                        msa state  October_2020_LaborForce  \\\n",
       "0  11500  0111500        Anniston-Oxford, AL    AL                  44790.0   \n",
       "1  12220  0112220         Auburn-Opelika, AL    AL                  76179.0   \n",
       "2  13820  0113820      Birmingham-Hoover, AL    AL                 549137.0   \n",
       "3  19300  0119300  Daphne-Fairhope-Foley, AL    AL                  95660.0   \n",
       "4  19460  0119460                Decatur, AL    AL                  71437.0   \n",
       "\n",
       "   October_2020_URate                    geometry  \n",
       "0                 6.6  POINT (-85.82603 33.77143)  \n",
       "1                 4.6  POINT (-85.35556 32.60114)  \n",
       "2                 5.3  POINT (-86.72819 33.40368)  \n",
       "3                 5.0  POINT (-87.74984 30.66097)  \n",
       "4                 4.1  POINT (-87.10264 34.49064)  "
      ]
     },
     "execution_count": 503,
     "metadata": {},
     "output_type": "execute_result"
    }
   ],
   "source": [
    "msaSum.head()"
   ]
  },
  {
   "cell_type": "code",
   "execution_count": 507,
   "metadata": {},
   "outputs": [],
   "source": [
    "nulls = msaSum[msaSum['October_2020_LaborForce'].isnull()]"
   ]
  },
  {
   "cell_type": "code",
   "execution_count": 508,
   "metadata": {},
   "outputs": [
    {
     "data": {
      "text/html": [
       "<div>\n",
       "<style scoped>\n",
       "    .dataframe tbody tr th:only-of-type {\n",
       "        vertical-align: middle;\n",
       "    }\n",
       "\n",
       "    .dataframe tbody tr th {\n",
       "        vertical-align: top;\n",
       "    }\n",
       "\n",
       "    .dataframe thead th {\n",
       "        text-align: right;\n",
       "    }\n",
       "</style>\n",
       "<table border=\"1\" class=\"dataframe\">\n",
       "  <thead>\n",
       "    <tr style=\"text-align: right;\">\n",
       "      <th></th>\n",
       "      <th>cbsa</th>\n",
       "      <th>geoid</th>\n",
       "      <th>msa</th>\n",
       "      <th>state</th>\n",
       "      <th>October_2020_LaborForce</th>\n",
       "      <th>October_2020_URate</th>\n",
       "      <th>geometry</th>\n",
       "    </tr>\n",
       "  </thead>\n",
       "  <tbody>\n",
       "  </tbody>\n",
       "</table>\n",
       "</div>"
      ],
      "text/plain": [
       "Empty GeoDataFrame\n",
       "Columns: [cbsa, geoid, msa, state, October_2020_LaborForce, October_2020_URate, geometry]\n",
       "Index: []"
      ]
     },
     "execution_count": 508,
     "metadata": {},
     "output_type": "execute_result"
    }
   ],
   "source": [
    "nulls.head()"
   ]
  },
  {
   "cell_type": "code",
   "execution_count": 509,
   "metadata": {},
   "outputs": [],
   "source": [
    "msaSum.to_file('../../../data/spatial/msa/usMsaData.geojson', driver=\"GeoJSON\")"
   ]
  },
  {
   "cell_type": "code",
   "execution_count": null,
   "metadata": {},
   "outputs": [],
   "source": [
    "# summarize to get latest and previous year"
   ]
  },
  {
   "cell_type": "code",
   "execution_count": 414,
   "metadata": {},
   "outputs": [],
   "source": [
    "# write files\n",
    "\n",
    "msaList = pd.read_excel('../msaBlsSeries.xlsx', sheet_name=\"msaList\")\n",
    "series = pd.read_excel('../msaBlsSeries.xlsx', sheet_name=\"blsSeries\")"
   ]
  },
  {
   "cell_type": "code",
   "execution_count": 415,
   "metadata": {},
   "outputs": [],
   "source": [
    "msaList= pd.merge(msaList, series, how='left', on='MSA')"
   ]
  },
  {
   "cell_type": "code",
   "execution_count": 417,
   "metadata": {},
   "outputs": [],
   "source": [
    "msaList.to_excel('deteleMsaList.xlsx', index=False)"
   ]
  },
  {
   "cell_type": "code",
   "execution_count": null,
   "metadata": {},
   "outputs": [],
   "source": []
  }
 ],
 "metadata": {
  "kernelspec": {
   "display_name": "Python 3",
   "language": "python",
   "name": "python3"
  },
  "language_info": {
   "codemirror_mode": {
    "name": "ipython",
    "version": 3
   },
   "file_extension": ".py",
   "mimetype": "text/x-python",
   "name": "python",
   "nbconvert_exporter": "python",
   "pygments_lexer": "ipython3",
   "version": "3.7.6"
  }
 },
 "nbformat": 4,
 "nbformat_minor": 4
}
